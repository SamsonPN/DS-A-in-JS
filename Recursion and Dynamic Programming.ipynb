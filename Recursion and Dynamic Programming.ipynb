{
 "cells": [
  {
   "cell_type": "markdown",
   "metadata": {},
   "source": [
    "## Recursion\n",
    "* recursion is the process of a function calling itself\n",
    "\n",
    "### The Three Laws of Recursion\n",
    "1. must have a base case\n",
    "    - a condition that allows a recursive algorithm to stop\n",
    "2. must change its state and move towards the base case\n",
    "    - usually by modifying some data\n",
    "3. must call itself, recursively\n",
    "    - this is what makes something recursive"
   ]
  },
  {
   "cell_type": "code",
   "execution_count": null,
   "metadata": {},
   "outputs": [],
   "source": []
  },
  {
   "cell_type": "markdown",
   "metadata": {},
   "source": [
    "## Dynamic Programming\n",
    "* apply dynamic programming to __optimization problems__\n",
    "    - finding some minimum or maximum value where many possible solutions are viable\n",
    "* apply 4 steps to develop a dp algorithm\n",
    "    1. characterize structure of an optimal solution\n",
    "    2. recursively define the value of an optimal solution\n",
    "    3. compute the value of an optimal solution, usually in a bottom-up fashion\n",
    "    4. construct an optimal solution from computed information\n",
    "* basically, you want to see if the problem can be solved by breaking it up into subproblems and the accumulation of these solutions leads you to an optimal solution\n",
    "    - you test out each solution and reuse any previously calculated ones to speed up time\n",
    "* 2 approaches:\n",
    "    - top-down memoization\n",
    "        - use of recursion to iterate through all subproblems\n",
    "        - and then keep track of the previously calculated soln in a hash table or array\n",
    "    - bottom-up iterative\n",
    "        - iterative solution that builds from a small subproblem"
   ]
  },
  {
   "cell_type": "markdown",
   "metadata": {},
   "source": [
    "### Example: Fibonacci Numbers\n",
    "* goal: compute nth fibonacci number\n",
    "* F<sub>n</sub> = F<sub>n - 1</sub> + F<sub>n - 2</sub>\n",
    "* F<sub>0</sub> = 0\n",
    "* F<sub>1</sub> = 1\n",
    "\n",
    "***\n",
    "naive recursive algorithm:\n",
    "\n",
    "fib(n):\n",
    "    if n <= 2: f = 1\n",
    "    else: f = fib(n-1) + fib(n - 2)\n",
    "    return f\n",
    "* O(2$^{n}$) algorithm\n",
    "\n",
    "***\n",
    "memoized dp algorithm:\n",
    "\n",
    "memo = {}\n",
    "fib(n):\n",
    "    if n in memo: return memo[n]\n",
    "    if n <= 2: f = 1\n",
    "    else: f = fib(n - 1) + fib(n - 2)\n",
    "    memo[n] = f\n",
    "    return f"
   ]
  },
  {
   "cell_type": "code",
   "execution_count": 20,
   "metadata": {},
   "outputs": [
    {
     "data": {
      "text/plain": [
       "354224848179262000000"
      ]
     },
     "execution_count": 20,
     "metadata": {},
     "output_type": "execute_result"
    }
   ],
   "source": [
    "function fib(n) {\n",
    "    if(n <= 2) {\n",
    "        return n;\n",
    "    }\n",
    "    else {\n",
    "        return fib(n - 1) + fib(n - 2);\n",
    "    }\n",
    "}\n",
    "\n",
    "fib(10)\n",
    "\n",
    "var memo = {};\n",
    "\n",
    "function memoFib(n, memo) {\n",
    "    if(n <= 2) {\n",
    "        return n;\n",
    "    }\n",
    "    else if (memo[n]) {\n",
    "        return memo[n];\n",
    "    }\n",
    "    else {\n",
    "        memo[n] = memoFib(n - 1, memo) + memoFib(n - 2, memo);\n",
    "        return memo[n];\n",
    "    }\n",
    "}\n",
    "\n",
    "memoFib(100, memo)"
   ]
  },
  {
   "cell_type": "markdown",
   "metadata": {},
   "source": [
    "## Pattern 1: 0/1 Knapsack\n",
    "* 0/1 Knapsack\n",
    "* Equal Subset Sum Partition\n",
    "* Subset Sum\n",
    "* Minimum Subset Sum Difference\n",
    "* Count of Subset Sum\n",
    "* Target Sum"
   ]
  },
  {
   "cell_type": "markdown",
   "metadata": {},
   "source": [
    "## Pattern 2: Unbounded Knapsack:\n",
    "* Unbounded Knapsack\n",
    "* Rod Cutting\n",
    "* Coin Change\n",
    "* Minimum Coin Change\n",
    "* Maximum Ribbon Cut"
   ]
  },
  {
   "cell_type": "markdown",
   "metadata": {},
   "source": [
    "## Pattern 3: Fibonacci Numbers\n",
    "* Fibonacci Numbers\n",
    "* Staircase\n",
    "* Number Factors\n",
    "* Minimum Jumps to Reach the End\n",
    "* Minimum Jumps with Fee\n",
    "* House Thief"
   ]
  },
  {
   "cell_type": "markdown",
   "metadata": {},
   "source": [
    "## Pattern 4: Palindromic Subsequence\n",
    "* Longest Palindromic Subsequence\n",
    "* Longest Palindromic Substring\n",
    "* Count of Palindromic Substrings\n",
    "* Minimum Deletions in a String to make it a Palindrome\n",
    "* Palindromic Partitioning"
   ]
  },
  {
   "cell_type": "markdown",
   "metadata": {},
   "source": [
    "## Pattern 5: Longest Common Substring:\n",
    "* Longest Common Substring\n",
    "* Longest Common Subsequence\n",
    "* Minimum Deletions & Insertions to Transform a String into Another\n",
    "* Minimum Deletions to Make a Sequence Sorted\n",
    "* Edit Distance"
   ]
  },
  {
   "cell_type": "markdown",
   "metadata": {},
   "source": [
    "***\n",
    "https://www.educative.io/courses/grokking-dynamic-programming-patterns-for-coding-interviews\n",
    "***\n",
    "https://www.youtube.com/watch?v=OQ5jsbhAv_M\n",
    "\n",
    "https://ocw.mit.edu/courses/electrical-engineering-and-computer-science/6-006-introduction-to-algorithms-fall-2011/lecture-videos/\n",
    "\n",
    "http://20bits.com/article/introduction-to-dynamic-programming\n",
    "\n",
    "https://www.topcoder.com/community/competitive-programming/tutorials/dynamic-programming-from-novice-to-advanced/\n",
    "\n",
    "https://a2oj.com/category?ID=33"
   ]
  },
  {
   "cell_type": "code",
   "execution_count": null,
   "metadata": {},
   "outputs": [],
   "source": []
  }
 ],
 "metadata": {
  "kernelspec": {
   "display_name": "JavaScript (Node.js)",
   "language": "javascript",
   "name": "javascript"
  },
  "language_info": {
   "file_extension": ".js",
   "mimetype": "application/javascript",
   "name": "javascript",
   "version": "16.14.2"
  }
 },
 "nbformat": 4,
 "nbformat_minor": 2
}
