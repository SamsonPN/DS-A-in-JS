{
 "cells": [
  {
   "cell_type": "markdown",
   "metadata": {},
   "source": [
    "## Handling the Questions:\n",
    "* Communicate: \n",
    "    - always ask the interviewer some clarifying questions about the problem\n",
    "* Go broad first: \n",
    "    - try to get the bigger picture before diving into specifics\n",
    "* Use the whiteboard: \n",
    "    - draw a diagram of your designs to help visualize it for yourself and for the interviewer\n",
    "* Acknowledge Interview concerns: \n",
    "    - take the concerns into consideration for the designs and adjust accordingly\n",
    "* Be careful about assumptions: \n",
    "    - incorrect assumptions can change the way you design the solution\n",
    "* State your assumptions explicitly:\n",
    "    - the interview can correct your assumptions and lead you to a better solution\n",
    "* Estimate when necessary:\n",
    "    - depending on the problem, making estimations will help you scale the problem later on\n",
    "* Drive: \n",
    "    - keep asking questions, keep making assumptions, and keep on communicating with your interviewer"
   ]
  },
  {
   "cell_type": "markdown",
   "metadata": {},
   "source": [
    "## Design: Step-By-Step\n",
    "1. Scope the problem\n",
    "    - want to be sure that we are designing something that the interview wants\n",
    "    - so asking clarifying questions helps a ton\n",
    "    - so if you were designing TinyURL, you would ask about:\n",
    "        - what TinyURL does\n",
    "        - is it automatically generated or can a user specify the url\n",
    "        - are there any analytics for it\n",
    "        - how long should it last for\n",
    "        - and what is the url associated with the tinyurl\n",
    "2. Make reasonable assumptions\n",
    "    - designs for TinyURL might be different between whether it processes 100 or 100 million URLs a day\n",
    "3. Draw the major components:\n",
    "    - this is essentially the whiteboarding section where you want to identify the major players in your design \n",
    "    - for example, you might have a couple of servers that handle web crawling or keeping track of analytics\n",
    "    - should have an idea of what happens when users interact with it to how it stores data.\n",
    "        - so for the TinyURL example, you'll have to sketch out what happens when a user enters in a new URL\n",
    "4. Identify the key issues:\n",
    "    - figuring out any challenges or bottlenecks to the design\n",
    "    - for example, some URLs will be more heavily accessed than others so you want to handle that type of scenario\n",
    "5. Redesign for the key issues:\n",
    "    - modify the designs to solve those issues\n",
    "    - so for the heavily accessed links, they can be cached so that you don't have to look into the database over and over again\n",
    "    - constantly communicate with the interview on the redesigns as well"
   ]
  },
  {
   "cell_type": "markdown",
   "metadata": {},
   "source": [
    "## Algorithms that Scale: Step-By-Step:\n",
    "1. Ask questions:\n",
    "    - always do this to understand the full scope of the problem and what exactly the interview wants\n",
    "2. Make believe:\n",
    "    - make an assumption that the solution can fit on one machine and there are no memory limitations\n",
    "    - this will help you outline a solution early on\n",
    "3. Get real:\n",
    "    - examine how your solution would work if those same memory limitations were in place\n",
    "    - are there any issues with it?\n",
    "4. Solve problems:\n",
    "    - now you want to be able to solve the problems presented in step 3\n",
    "    - you don't really need to solve all the problems b/c new ones can arise\n",
    "    - it is better to be able to take a step back and analyze and call out the problems and be able to provide some sort of a solution"
   ]
  },
  {
   "cell_type": "markdown",
   "metadata": {},
   "source": [
    "## Key Concepts:\n",
    "* __Horizontal vs. Vertical Scaling__:\n",
    "    - vertical scaling: increasing the resources for a specific node. for example, adding additional memory to a server.\n",
    "        - easier but limited\n",
    "    - hroizontal scaling: increasing number of nodes. so you could have additional servers rather than having 1 server handle it all\n",
    "* __Load Balancer__:\n",
    "    - distributes the load evenly for a website by using multiple servers. thus if one server goes down, the whole system won't collapse as well\n",
    "    - for example: having multiple servers with the same data but all the requests are distributed evenly between them all rather than just one server\n",
    "* __Database Denormalization and NoSQL__:\n",
    "    - joins in a large SQL database can be quite slow\n",
    "    - by denormalizing it, you add redundant data to related tables so that it does not require joins to retrieve it\n",
    "        - for example, if you're retrieving various tasks for a project and there are multiple projects, you can add the project name to the Tasks table and retrieve that with the tasks rather than joining the Projects table with the Tasks table\n",
    "    - by using a NoSQL database, you can also achieve this as well by keeping the Project name and the task together\n",
    "        - either by having a Projects document with an array of tasks\n",
    "        - or a collection of Tasks documents with a Project Name field\n",
    "* __Database Partitioning (Sharding)__:\n",
    "    - sharding: splitting data across multiple machines with a way of retrieving those pieces from those machines\n",
    "    - common ways of partitioning:\n",
    "        - Vertical Partitioning: partitioning by feature\n",
    "            - so if you had a social media network, you would have a database for profiles, another for messages, etc\n",
    "            - drawback: if one of those databases gets too large, you will have to partition it as well and you might have to use another partitioning method to do so\n",
    "        - Key-Based (or Hash-Based) Partitioning: uses some part of the data to partition it, like an ID\n",
    "            - you have N number of servers and put data on modulo(key, n)\n",
    "            - drawback: your number of servers, N, will be fixed and adding additional servers would have you rehashing everything which is very expensive\n",
    "        - Directory-Based Partitioning: maintain a lookup table where all of the data can be found\n",
    "            - makes it easy to add additional servers to manage the load\n",
    "            - drawbacks: \n",
    "                1. lookup table is a single point of failure. so if it fails, everything else will as well since you won't be able to find anything\n",
    "                2. this is also a bottleneck as well if there are a lot of requests\n",
    "    - many places use a mix of these partitioning schmes \n",
    "* __Caching__:\n",
    "    - simple key-value pairing that helps you return results very quickly\n",
    "    - you store some frequently accessed data into a cache and anytime it is requested, you check the cache and return it\n",
    "* __Asynchronous Processing and Queues__:\n",
    "    - slow operations should be done asynchronously to prevent the user from waiting\n",
    "        - so the operation can be done in the background while the user does other things\n",
    "    - for example, if you were on reddit, it could provide you with some old posts and stuff and then fetch for the newer ones in the background while you browse. then once it is finished, you are able to look at those new posts\n",
    "    - or when facebook uploads a really large video as a status update, it will do it in the background (asynchronously) while you browse. then once it is done, it will notify you and you can now see it on the timeline\n",
    "* __Networking Metrics__:\n",
    "    - Bandwidth: max amount of data transferred per unit of time.\n",
    "        - e.g. 8mb of data per second can be transferred\n",
    "    - Throughput: the amount of data that can be transferred\n",
    "        - so Throughput could be like 8gb of data or something\n",
    "    - Latency: how long it takes data to go from one end to the other\n",
    "        - e.g. in fighting games you have 2 frames of lag or 4 frames of lag\n",
    "* __MapReduce__:\n",
    "    - used to process large amounts of data and can be done in parallel\n",
    "    - has 2 steps:\n",
    "        1. Map step: takes in data and converts it to <key, value> pairs\n",
    "        2. Reduce step: takes those key-value pairs and condenses them somehow into  new key-value pair\n",
    "    - for example, if you have multiple documents and you want to find the certain words for it, you can use map-reduce to make key-value pairs of all the words as the key and where it occurs as the value\n",
    "        - so if 'book' occurs in documents 3, 4, and 5, then the key-value pair is: 'book': {doc3, doc4, doc5}\n",
    "        - the map step will involve processing multiple documents like this in parallel for each word\n",
    "        - the reduce step will then combine all the occurrences of the word into one\n",
    "            - so if you have 'book': {doc3, doc4, doc5} in one node and 'book': {doc6, doc7}, then reduce will combine that into 'book': {doc3, doc4, doc5, doc6, doc7}"
   ]
  },
  {
   "cell_type": "markdown",
   "metadata": {},
   "source": [
    "## Considerations:\n",
    "* Failures:\n",
    "    - any part of the system can fail so plan accordingly for them\n",
    "* Availability and Reliability:\n",
    "    - availability: % of time that system is operational\n",
    "    - reliability: probability that the system is operational for a certain amount of time\n",
    "* Read-heavy vs. Write-heavy:\n",
    "    - for read-heavy, you can cache some of the results to return them quickly\n",
    "    - for write-heavy, you can queue the writes but if it fails, you should have a back-up plan\n",
    "* Security:\n",
    "    - know what kind of security risks can exist out there and plan your designs with them in mind"
   ]
  },
  {
   "cell_type": "markdown",
   "metadata": {},
   "source": [
    "## There is no \"perfect\" system\n",
    "* your goal is to look at the bigger picture and understand what needs to be done\n",
    "* making smart assumptions based on what you want to achieve and analyze the designs for any drawbacks or issues"
   ]
  },
  {
   "cell_type": "code",
   "execution_count": null,
   "metadata": {},
   "outputs": [],
   "source": []
  },
  {
   "cell_type": "code",
   "execution_count": null,
   "metadata": {},
   "outputs": [],
   "source": []
  },
  {
   "cell_type": "code",
   "execution_count": null,
   "metadata": {},
   "outputs": [],
   "source": []
  },
  {
   "cell_type": "code",
   "execution_count": null,
   "metadata": {},
   "outputs": [],
   "source": []
  },
  {
   "cell_type": "code",
   "execution_count": null,
   "metadata": {},
   "outputs": [],
   "source": []
  },
  {
   "cell_type": "code",
   "execution_count": null,
   "metadata": {},
   "outputs": [],
   "source": []
  },
  {
   "cell_type": "code",
   "execution_count": null,
   "metadata": {},
   "outputs": [],
   "source": []
  },
  {
   "cell_type": "code",
   "execution_count": null,
   "metadata": {},
   "outputs": [],
   "source": []
  }
 ],
 "metadata": {
  "kernelspec": {
   "display_name": "JavaScript (Node.js)",
   "language": "javascript",
   "name": "javascript"
  },
  "language_info": {
   "file_extension": ".js",
   "mimetype": "application/javascript",
   "name": "javascript",
   "version": "16.14.2"
  }
 },
 "nbformat": 4,
 "nbformat_minor": 2
}
