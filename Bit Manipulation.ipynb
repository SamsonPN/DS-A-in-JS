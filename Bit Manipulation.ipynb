{
 "cells": [
  {
   "cell_type": "markdown",
   "metadata": {},
   "source": [
    "## Bits\n",
    "* bits can either be a 1 or a 0\n",
    "* there are 8 bits in 1 byte: so 1111 1111 = 8 bits = 1 byte\n",
    "* 1 byte can store 1 character, e.g. 'A' or 'x' or '#'\n",
    "* n bits yields 2$^{n}$ different patterns of 1s and 0s\n",
    "    - 8 bits = 2$^{8}$ = 256 different numbers (0 -> 255)\n",
    "* bytes and characters\n",
    "    - ASCII = encoding representing each typed character as a number\n",
    "        - each number stored in 1 byte (0 --> 255)\n",
    "        - ex: A is 65, B is 66, a is 97 and space = 32;\n",
    "        - can convert A + 32 = a\n",
    "        - supports 128 characters only\n",
    "        - 7 bits to rep a character\n",
    "        - requires less space\n",
    "    - unicode = encoding for mandarin, greek, arabic, etc\n",
    "        - typically 2-bytes (16-bit) per character but can usually use 8-bit or 32-bit as well \n",
    "        - requires more space\n",
    "        - can support a wide variety of characters for various languages\n",
    "* integers can be stored with either 4 or 8 bytes (32-bit or 64-bit)\n",
    "    - can calculate the amount of numbers for each by doing this equation:\n",
    "    -2$^{n - 1}$ --> 2$^{n - 1}$ - 1\n",
    "    - so for 4 bytes (32-bits) it is: -2$^{32 - 1}$ --> 2$^{32 - 1}$ - 1\n",
    "    - positive integers have 1 less number b/c it also accounts for 0"
   ]
  },
  {
   "cell_type": "markdown",
   "metadata": {},
   "source": [
    "## Tricks\n",
    "### Represent a negative number using Two's Complement\n",
    "1. get binary representation of the absolute value of the number\n",
    "2. get the complement of the number\n",
    "3. add 1 to it\n",
    "***\n",
    "* for example: -3, assuming 4-bit number\n",
    "    1. |-3| = 3 = 0011;\n",
    "    2. ~(0011) = (1100);\n",
    "    3. 1100 + 1 = 1101 = -3\n",
    "***\n",
    "Another way to do it:\n",
    "1. get absolute value of number\n",
    "2. subtract by 1\n",
    "3. get binary representation of it\n",
    "4. negate it\n",
    "***\n",
    "* for example:\n",
    "    1. |-3| = 3\n",
    "    2. 3 - 1 = 2;\n",
    "    3. 2 = 0010\n",
    "    4. ~(0010) = 1101\n",
    "* this is equivalent to ~( Math.abs(n) - 1 )\n",
    "\n",
    "### Bit Subtraction\n",
    "1. negate the subtractor.\n",
    "2. add 1 to it\n",
    "3. add the two numbers together\n",
    "***\n",
    "- so if you have 3 - 1, you do 3 + (-1).\n",
    "    1. 1 = 0001\n",
    "    2. ~(0001) = 1110\n",
    "    3. 1110 + 1 = 1111\n",
    "    4. 0011 (3) + 1111 = 0010 (2) with extra bits discarded"
   ]
  },
  {
   "cell_type": "markdown",
   "metadata": {},
   "source": [
    "### JavaScript Representation\n",
    "* can type out binary numbers like this:\n",
    "    - let a = 0b11111111\n",
    "    - this is binary form of 255\n",
    "    - can also do octal and hex if you replace the b with an o or an x\n",
    "    - 0xFF = 255\n",
    "    - 0o377 = 255\n",
    "* toString(base): use this method to return a representation of a number according to the base you give it\n",
    "    - ex: let num = 255;\n",
    "    - num.toString(16) = ff which is hex\n",
    "    - num.toString(2) = 11111111 which is binary\n",
    "    - default = 10; can vary from 2 to 36 though"
   ]
  },
  {
   "cell_type": "code",
   "execution_count": 46,
   "metadata": {},
   "outputs": [
    {
     "name": "stdout",
     "output_type": "stream",
     "text": [
      "true\n"
     ]
    }
   ],
   "source": [
    "var bin = 0b11111111;\n",
    "var decimal = 255;\n",
    "console.log(bin === decimal)"
   ]
  },
  {
   "cell_type": "markdown",
   "metadata": {},
   "source": [
    "### Bitwise Operators (simple)\n",
    "* bitwise operators treats operands as a sequence of 32 bits (4 bytes)\n",
    "* AND: a & b\n",
    "    - 1 & 1 = 1\n",
    "    - 1 & 0 = 0\n",
    "* OR: a | b\n",
    "    - 1 | 0 = 1\n",
    "* XOR: a ^ b\n",
    "    - 1 ^ 0 = 1\n",
    "    - 1 ^ 1 = 0\n",
    "    - 0 ^ 0 = 0\n",
    "* NOT: ~a\n",
    "    - ~(101) = 010"
   ]
  },
  {
   "cell_type": "code",
   "execution_count": 58,
   "metadata": {},
   "outputs": [
    {
     "name": "stdout",
     "output_type": "stream",
     "text": [
      "{ a: 13, b: 9 }\n",
      "\n",
      "\n",
      "{ and: 9, bit: '1001' }\n",
      "{ or: 13, bit: '1101' }\n",
      "{ xor: 4, bit: '100' }\n",
      "{ not: -14, bit: '-1110' }\n"
     ]
    }
   ],
   "source": [
    "var a = 0b1101;\n",
    "var b = 0b1001;\n",
    "console.log({a, b})\n",
    "console.log('\\n')\n",
    "\n",
    "var and = a & b;\n",
    "var or = a | b;\n",
    "var xor = a ^ b;\n",
    "var not = ~a;\n",
    "\n",
    "console.log({and, bit: and.toString(2)});\n",
    "console.log({or, bit: or.toString(2)});\n",
    "console.log({xor, bit: xor.toString(2)});\n",
    "console.log({not, bit: not.toString(2)});"
   ]
  },
  {
   "cell_type": "markdown",
   "metadata": {},
   "source": [
    "### Bitwise Operators (shifting)\n",
    "* Left Shift: a << b\n",
    "    - __a << b is essentially a * 2$^{b}$__\n",
    "    - shifts all digits in binary representation of a to the left b number of times\n",
    "    - shifts in 0s from the right\n",
    "* Arithmetic Right Shift: a >> b\n",
    "    - __a >> b is essentially a / 2$^{b}$__\n",
    "    - shifts all digits in binary representation of a to the right b number of times\n",
    "    - shifts in 0s from the left\n",
    "    - keeps the sign of the number so if it is a negative number, it will still be negative, i.e. the most significant bit (sign bit) is carried over\n",
    "* Logical Right Shift: a >>> b\n",
    "    - shifts a to the right b number of times and shifts in 0s from the left\n",
    "    - the difference between logical and arithmetic right shift is that the sign bit is not carried over.\n",
    "    - the sign bit is instead replaced with a 0, so the result is always non-negative"
   ]
  },
  {
   "cell_type": "code",
   "execution_count": 67,
   "metadata": {},
   "outputs": [
    {
     "name": "stdout",
     "output_type": "stream",
     "text": [
      "{ leftShift: -48 }\n",
      "{ rightShift: -3 }\n",
      "{ LogicalrightShift: 1073741821 }\n"
     ]
    }
   ],
   "source": [
    "var a = -12;\n",
    "var b = 2;\n",
    "\n",
    "var leftShift = a << b;\n",
    "var rightShift = a >> b;\n",
    "var LogicalrightShift = a >>> b;\n",
    "\n",
    "\n",
    "console.log({leftShift}); // -12 x 2^2 = -48\n",
    "console.log({rightShift}); // -12 / 2^2 = -3\n",
    "console.log({LogicalrightShift});"
   ]
  },
  {
   "cell_type": "code",
   "execution_count": 20,
   "metadata": {},
   "outputs": [
    {
     "name": "stdout",
     "output_type": "stream",
     "text": [
      "{ before: '-10110110000111010', after: '-1011011000011101' }\n",
      "{ before: '-1011011000011101', after: '-101101100001111' }\n",
      "{ before: '-101101100001111', after: '-10110110001000' }\n",
      "{ before: '-10110110001000', after: '-1011011000100' }\n",
      "{ before: '-1011011000100', after: '-101101100010' }\n",
      "{ before: '-101101100010', after: '-10110110001' }\n",
      "{ before: '-10110110001', after: '-1011011001' }\n",
      "{ before: '-1011011001', after: '-101101101' }\n",
      "{ before: '-101101101', after: '-10110111' }\n",
      "{ before: '-10110111', after: '-1011100' }\n",
      "{ before: '-1011100', after: '-101110' }\n",
      "{ before: '-101110', after: '-10111' }\n",
      "{ before: '-10111', after: '-1100' }\n",
      "{ before: '-1100', after: '-110' }\n",
      "{ before: '-110', after: '-11' }\n",
      "{ before: '-11', after: '-10' }\n",
      "{ before: '-10', after: '-1' }\n",
      "{ before: '-1', after: '-1' }\n",
      "{ before: '-1', after: '-1' }\n",
      "{ before: '-1', after: '-1' }\n",
      "{ before: '-1', after: '-1' }\n",
      "{ before: '-1', after: '-1' }\n",
      "{ before: '-1', after: '-1' }\n",
      "{ before: '-1', after: '-1' }\n",
      "{ before: '-1', after: '-1' }\n",
      "{ before: '-1', after: '-1' }\n",
      "{ before: '-1', after: '-1' }\n",
      "{ before: '-1', after: '-1' }\n",
      "{ before: '-1', after: '-1' }\n",
      "{ before: '-1', after: '-1' }\n",
      "{ before: '-1', after: '-1' }\n",
      "{ before: '-1', after: '-1' }\n",
      "{ before: '-1', after: '-1' }\n",
      "{ before: '-1', after: '-1' }\n",
      "{ before: '-1', after: '-1' }\n",
      "{ before: '-1', after: '-1' }\n",
      "{ before: '-1', after: '-1' }\n",
      "{ before: '-1', after: '-1' }\n",
      "{ before: '-1', after: '-1' }\n",
      "{ before: '-1', after: '-1' }\n"
     ]
    },
    {
     "data": {
      "text/plain": [
       "-1"
      ]
     },
     "execution_count": 20,
     "metadata": {},
     "output_type": "execute_result"
    }
   ],
   "source": [
    "// arithmetic right shift repeatedly divides the number by 2 \n",
    "function repeatedArithmeticShift(x, count) {\n",
    "    for(let i = 0; i < count; i++) {\n",
    "        let before = x;\n",
    "        x >>=1;\n",
    "        console.log({\n",
    "            before: before.toString(2),\n",
    "            after: x.toString(2)\n",
    "        })\n",
    "    }\n",
    "    return x;\n",
    "}\n",
    "\n",
    "repeatedArithmeticShift(-93242, 40);\n",
    "\n",
    "/*\n",
    "around the 17th time, the number would keep on being -1.\n",
    "    - this is b/c -93242 requires only 16 bits and 1 sign bit to represent itself in binary\n",
    "    - thus, when you continually right shift, you shift all the numbers to the right and replace\n",
    "    - the second most significant bit with a 0 while stilling keeping the 1 as the sign bit\n",
    "    - thus it would keep showing -1 b/c it would just keep the signed bit as 1 and the other\n",
    "      16 bits are 0\n",
    "*/"
   ]
  },
  {
   "cell_type": "code",
   "execution_count": 1,
   "metadata": {},
   "outputs": [
    {
     "name": "stdout",
     "output_type": "stream",
     "text": [
      "{ before: '-10110110000111010',\n",
      "  after: '1111111111111110100100111100011' }\n",
      "{ before: '1111111111111110100100111100011',\n",
      "  after: '111111111111111010010011110001' }\n",
      "{ before: '111111111111111010010011110001',\n",
      "  after: '11111111111111101001001111000' }\n",
      "{ before: '11111111111111101001001111000',\n",
      "  after: '1111111111111110100100111100' }\n",
      "{ before: '1111111111111110100100111100',\n",
      "  after: '111111111111111010010011110' }\n",
      "{ before: '111111111111111010010011110',\n",
      "  after: '11111111111111101001001111' }\n",
      "{ before: '11111111111111101001001111',\n",
      "  after: '1111111111111110100100111' }\n",
      "{ before: '1111111111111110100100111',\n",
      "  after: '111111111111111010010011' }\n",
      "{ before: '111111111111111010010011',\n",
      "  after: '11111111111111101001001' }\n",
      "{ before: '11111111111111101001001',\n",
      "  after: '1111111111111110100100' }\n",
      "{ before: '1111111111111110100100',\n",
      "  after: '111111111111111010010' }\n",
      "{ before: '111111111111111010010',\n",
      "  after: '11111111111111101001' }\n",
      "{ before: '11111111111111101001', after: '1111111111111110100' }\n",
      "{ before: '1111111111111110100', after: '111111111111111010' }\n",
      "{ before: '111111111111111010', after: '11111111111111101' }\n",
      "{ before: '11111111111111101', after: '1111111111111110' }\n",
      "{ before: '1111111111111110', after: '111111111111111' }\n",
      "{ before: '111111111111111', after: '11111111111111' }\n",
      "{ before: '11111111111111', after: '1111111111111' }\n",
      "{ before: '1111111111111', after: '111111111111' }\n",
      "{ before: '111111111111', after: '11111111111' }\n",
      "{ before: '11111111111', after: '1111111111' }\n",
      "{ before: '1111111111', after: '111111111' }\n",
      "{ before: '111111111', after: '11111111' }\n",
      "{ before: '11111111', after: '1111111' }\n",
      "{ before: '1111111', after: '111111' }\n",
      "{ before: '111111', after: '11111' }\n",
      "{ before: '11111', after: '1111' }\n",
      "{ before: '1111', after: '111' }\n",
      "{ before: '111', after: '11' }\n",
      "{ before: '11', after: '1' }\n",
      "{ before: '1', after: '0' }\n",
      "{ before: '0', after: '0' }\n",
      "{ before: '0', after: '0' }\n",
      "{ before: '0', after: '0' }\n",
      "{ before: '0', after: '0' }\n",
      "{ before: '0', after: '0' }\n",
      "{ before: '0', after: '0' }\n",
      "{ before: '0', after: '0' }\n",
      "{ before: '0', after: '0' }\n"
     ]
    },
    {
     "data": {
      "text/plain": [
       "0"
      ]
     },
     "execution_count": 1,
     "metadata": {},
     "output_type": "execute_result"
    }
   ],
   "source": [
    "function repeatedLogicalShift(x, count) {\n",
    "    for (let i = 0; i < count; i++) {\n",
    "        let before = x;\n",
    "        x >>>= 1;\n",
    "        console.log({\n",
    "            before: before.toString(2),\n",
    "            after: x.toString(2)\n",
    "        })\n",
    "    }\n",
    "    return x;\n",
    "}\n",
    "\n",
    "repeatedLogicalShift(-93242, 40);\n",
    "\n",
    "/*\n",
    "the logical right shift will be constantly shifting every bit to right and adding a 0 to the most significant bit\n",
    "    - thus, if you do that a bunch of times, eventually, all the 1s that help represent -93242 will eventually be\n",
    "      discarded and replaced with 0s\n",
    "    - so by the 40th time it logically right shifts this number, it will just be a sequence of 0s which is equal to 0\n",
    "*/"
   ]
  },
  {
   "cell_type": "markdown",
   "metadata": {},
   "source": [
    "## Common Bit Tasks (Get, Set, Clear, Update)"
   ]
  },
  {
   "cell_type": "markdown",
   "metadata": {},
   "source": [
    "### Get Bit: gets bit at the ith position\n",
    "1. left shit 1 by i to create a mask: 1 << i\n",
    "2. num & mask, then see if it is equal to 0\n",
    "    - the left shift moves 1 to the ith position. so if we have 1 << 4, then we have: 0001000;\n",
    "    - then when we num & mask, the ith bits are compared. then we return whether that value is not equal to 0."
   ]
  },
  {
   "cell_type": "code",
   "execution_count": 71,
   "metadata": {},
   "outputs": [
    {
     "data": {
      "text/plain": [
       "true"
      ]
     },
     "execution_count": 71,
     "metadata": {},
     "output_type": "execute_result"
    }
   ],
   "source": [
    "function getBit(num, i) {\n",
    "    let mask = 1 << i;\n",
    "    let value = num & mask;\n",
    "    // true = 1, false = 0\n",
    "    return value !== 0;\n",
    "}\n",
    "\n",
    "var a = 0b00010000; // 16\n",
    "getBit(a, 4); // returns true = 1"
   ]
  },
  {
   "cell_type": "markdown",
   "metadata": {},
   "source": [
    "### Set Bit: sets bit at the ith position\n",
    "1. create a mask by left shifting 1 by i: 1 << i\n",
    "2. then we do num | mask\n",
    "    - setting = make the bit a 1 while clearing = make the bit a 0\n",
    "    - since 1 | any # is always gonna be 1, when we num | mask, we will keep other bits the same but the ith bit will always be 1 b/c the ith bit in the mask is 1"
   ]
  },
  {
   "cell_type": "code",
   "execution_count": 74,
   "metadata": {},
   "outputs": [
    {
     "name": "stdout",
     "output_type": "stream",
     "text": [
      "177\n",
      "true\n"
     ]
    }
   ],
   "source": [
    "function setBit(num, i) {\n",
    "    let mask = 1 << i;\n",
    "    return num | mask;\n",
    "}\n",
    "\n",
    "var a = 0b10100001; // 161\n",
    "// setting bit at 4th position is like adding 16 to it\n",
    "var newA = setBit(a, 4);\n",
    "console.log(newA); // we get 177 so it worked\n",
    "console.log(getBit(newA, 4)); // and this returned true = 1"
   ]
  },
  {
   "cell_type": "markdown",
   "metadata": {},
   "source": [
    "### Clear Bit: \n",
    "1. create a mask by left shifting 1 by i then getting its complement\n",
    "    - reason why we do this is b/c left shifting 1 will create something like this: 00010000 where there is only one 1 in the mask\n",
    "    - when we get the complement, we essentially have one 0 and all ones in the number: 111011111\n",
    "2. then we do num & mask\n",
    "    - with the complement, this essentially will clear the ith bit of num b/c the ith bit in the mask is 0 and the rest are 1s\n",
    "    - since the rest are 1s and we num & mask, the 1s in the num will be maintained so the num won't change besides that bit\n",
    "    - this is the only time we use the NOT (~) operator for clearing a bit. we will be using it for another operation though"
   ]
  },
  {
   "cell_type": "code",
   "execution_count": 76,
   "metadata": {},
   "outputs": [
    {
     "name": "stdout",
     "output_type": "stream",
     "text": [
      "161\n",
      "false\n"
     ]
    }
   ],
   "source": [
    "function clearBit(num, i) {\n",
    "    let mask = ~(1 << i);\n",
    "    return num & mask;\n",
    "}\n",
    "\n",
    "var a = 0b10110001; //177\n",
    "// clearing bit at pos 4 is like subtracting by 16\n",
    "var newA = clearBit(a, 4);\n",
    "console.log(newA); // get 161 so it worked\n",
    "console.log(getBit(newA, 4)); // we get false = 0"
   ]
  },
  {
   "cell_type": "markdown",
   "metadata": {},
   "source": [
    "### Clear Bit from Most Significant Bit (MSB) to i (inclusive):\n",
    "1. create a mask by left shifting 1 by i then subtracting it by 1\n",
    "    - when we subtract by 1, the bits from i - 1 --> 0 are turned into 1 whereas the bits from msb --> i are still 0s\n",
    "    - ex: \n",
    "        - if we have a mask 0001 0000 and we subtract by 1, we are essentially adding by -1\n",
    "        - 1111 1111 = -1\n",
    "        - thus when we add them together, we get 1 0000 1111\n",
    "        - the extra 1 on the left gets discarded so we have 0000 1111\n",
    "2. then we do num & mask which would clear bits from msb --> i and keep i - 1 --> 0 bits the same"
   ]
  },
  {
   "cell_type": "code",
   "execution_count": 78,
   "metadata": {},
   "outputs": [
    {
     "name": "stdout",
     "output_type": "stream",
     "text": [
      "0\n"
     ]
    }
   ],
   "source": [
    "function clearMsbToI(num, i) {\n",
    "    let mask = (1 << i) - 1;\n",
    "    return num & mask;\n",
    "}\n",
    "\n",
    "var a = 0b11110000; // 240\n",
    "// we essentially cleared out those four 1s at the beginning\n",
    "// since those were the only bits that added any value, clearing them\n",
    "// made the number become 0\n",
    "var newA = clearMsbToI(a, 4);\n",
    "console.log(newA);"
   ]
  },
  {
   "cell_type": "markdown",
   "metadata": {},
   "source": [
    "### Clear Bit from i to 0 (inclusive):\n",
    "1. create a mask by left shifting -1 by i + 1\n",
    "    - the reason why we want to use -1 is b/c -1 = 1111 1111\n",
    "    - when we left shift something, we move every bit to the left and shift a 0 from the right\n",
    "    - so in doing so, we essentially replace all 1s from i --> 0 with 0s\n",
    "    - for example for i = 4, we left shift it by 5 times: 1111 1111 --> 1111 1110 --> 1111 1100 --> 1111 1000 --> 1111 0000 --> 1110 0000\n",
    "2. then we do num & mask which would mask bits from i --> 0 while keeping msb --> i + 1 the same"
   ]
  },
  {
   "cell_type": "code",
   "execution_count": 80,
   "metadata": {},
   "outputs": [
    {
     "name": "stdout",
     "output_type": "stream",
     "text": [
      "0\n"
     ]
    }
   ],
   "source": [
    "function clearZeroToI(num, i) {\n",
    "    let mask = -1 << (i + 1);\n",
    "    return num & mask;\n",
    "}\n",
    "\n",
    "var a = 0b00011111; // 31\n",
    "// we essentially cleared out the five 1s here\n",
    "// since they were the only ones that had any value\n",
    "// clearing them out turned the number to 0\n",
    "var newA = clearZeroToI(a, 4);\n",
    "console.log(newA)"
   ]
  },
  {
   "cell_type": "markdown",
   "metadata": {},
   "source": [
    "### Update Bit: update the bit at ith position with a given value\n",
    "1. clear the bit at i\n",
    "    - create mask by left shifting 1 by i then getting its complement\n",
    "    - then you do num &= mask so that it clears the ith bit in num\n",
    "2. then you create another mask by shifting the given value by i\n",
    "3. then you do num | value mask\n",
    "    - so if the value bit is 0, then the num will stay 0 since it was cleared\n",
    "    - if the value bit is 1, we know that 1 | 0 = 1, so it'll be set\n",
    "***\n",
    "- in essence, updating a bit is essentially just 2 compounded steps\n",
    "1. you clear the bit at i \n",
    "2. you set the bit at i but using a mask created by the left shifting the given value"
   ]
  },
  {
   "cell_type": "code",
   "execution_count": 1,
   "metadata": {},
   "outputs": [
    {
     "name": "stdout",
     "output_type": "stream",
     "text": [
      "32\n",
      "239\n"
     ]
    }
   ],
   "source": [
    "function updateBit(num, i, bitIs1) {\n",
    "    let value = bitIs1 ? 1 : 0;\n",
    "    let mask = ~(1 << i);\n",
    "    num &= mask;\n",
    "    value <<= i;\n",
    "    return num | value;\n",
    "}\n",
    "\n",
    "var a = 0b00000000;\n",
    "// updating bit at the 5th pos with a 1\n",
    "// since our original value is 0, the 5th bit will only be the one\n",
    "// providing it value\n",
    "// 2^5 = 32\n",
    "var newA = updateBit(a, 5, 1);\n",
    "console.log(newA)\n",
    "\n",
    "var b = 0b11111111; // 255\n",
    "// clearing the 4th bit from b is like subtracting 16 from it\n",
    "var newB = updateBit(b, 4, 0);\n",
    "console.log(newB); //we got 239 so it worked"
   ]
  },
  {
   "cell_type": "markdown",
   "metadata": {},
   "source": [
    "## Common Bit Algorithms"
   ]
  },
  {
   "cell_type": "markdown",
   "metadata": {},
   "source": [
    "### Powers of 2\n",
    "1. create a mask by doing x - 1 where x = number we want to evaluate\n",
    "2. then we do x &= mask\n",
    "3. then we see if x is equal to 0.\n",
    "    - if it is, return true\n",
    "    - else it is not a power of 2\n",
    "***\n",
    "* any binary number that is a power of 2 will only have __one 1 bit in it__\n",
    "    - for example 4 = 0100\n",
    "    - 6 = 0110, which has two 1 bits inside it and is clearly not a power of 2\n",
    "* using this knowledge, we then assume that the number we are trying to evaluate, x, has only one 1 bit in it.\n",
    "    - thus when we create a mask using x - 1, we essentially flip every bit to the right of the rightmost 1-bit, including itself\n",
    "    - so if we have 4 = 0100, 3 = 0011\n",
    " then when we do x & mask, we clear all bits from the rightmost 1-bit to the 0th position\n",
    "* we then compare x to 0. with our assumption, once we do x & mask and x is a power of 2, then the only bit that gives the binary sequence any value is the rightmost 1-bit.\n",
    "    - since we cleared the only 1-bit out, then the binary sequence should return 0\n",
    "    - if it returns a non-zero number, we know that there is more than one 1-bit in the original sequence, and can therefore not be a power of 2\n",
    "* Analysis: \n",
    "    - complexity should be equal to the number of bits in x\n",
    "    - space complexity is O(1), we don't use any large data structure to hold any information"
   ]
  },
  {
   "cell_type": "code",
   "execution_count": 3,
   "metadata": {},
   "outputs": [
    {
     "name": "stdout",
     "output_type": "stream",
     "text": [
      "false\n",
      "true\n"
     ]
    }
   ],
   "source": [
    "function isPowerOfTwo(x) {\n",
    "    return (x & (x - 1)) === 0;\n",
    "}\n",
    "\n",
    "console.log(isPowerOfTwo(65));\n",
    "console.log(isPowerOfTwo(128))"
   ]
  },
  {
   "cell_type": "markdown",
   "metadata": {},
   "source": [
    "### Count the Number of Ones in the Binary Representation of the Given Number\n",
    "1. while n !== 0\n",
    "2. create a mask by doing n - 1\n",
    "3. then update n to be n &= mask\n",
    "4. increment the count\n",
    "***\n",
    "* this uses the same concept as the power of 2 algorithm\n",
    "* what we are doing is flipping every bit from the rightmost 1-bit in n to the 0th position\n",
    "* then when we & the n and the mask, we clear that bit\n",
    "* we keep doing this until we have cleared all the 1-bits from the original number n and we increment the number of times we do this and return it\n",
    "* Analysis:\n",
    "    - time complexity should be about O(k), where k = number of ones present in the binary form of the given number\n",
    "    - space complexity is also O(1)"
   ]
  },
  {
   "cell_type": "code",
   "execution_count": 5,
   "metadata": {},
   "outputs": [
    {
     "name": "stdout",
     "output_type": "stream",
     "text": [
      "8\n"
     ]
    }
   ],
   "source": [
    "function countOnes(n) {\n",
    "    let count = 0;\n",
    "    while(n !== 0) {\n",
    "        n &= n - 1;\n",
    "        count++;\n",
    "    }\n",
    "    return count;\n",
    "}\n",
    "\n",
    "var num = 0b11111111;\n",
    "console.log(countOnes(num)); // should be 8"
   ]
  },
  {
   "cell_type": "markdown",
   "metadata": {},
   "source": [
    "### Generate All Possible Subsets of a Set\n",
    "***\n",
    "* __THIS ALGORITHM IS BASICALLY JUST READING FLAGS__\n",
    "    - for example: if we have a set {a, b, c, d} then each of these represents a bit position in a number\n",
    "    - so if we have the number 1111, then the set would be {a, b, c, d} b/c all the bits have been set\n",
    "    - 1111 = 15. there are 16 subsets in this set b/c it is 2$^{4}$ where set.length = 4;\n",
    "    - another example would be 1011 = 11 and represents the set {a, b, d}\n",
    "    - so in essence, we iterate through every number until we reach the number of possible subsets and __each number in binary form represents a sequence of flags that will tell us if a particular element in our set is present__\n",
    "* in the for-loop, the reason why we do i < (1 << n) is b/c 1 << n represents the number of possible subsets for a given set\n",
    "    - remember that for any set with n length, there are 2$^{n}$ subsets\n",
    "    - so when we take the length of the set and then we shift 1 by n, we are essentially doing the same thing.\n",
    "    - left-shifting is similar to multiping by 2, so if we left shift 1 by n, we are basically doing 1 * 2$^{n}$\n",
    "* the second for-loop iterates through every bit in the current number of the first for-loop\n",
    "    - it then checks whether that bit is set or not.\n",
    "    - remember that getBit = num & (1 << i) where i = bit position we want\n",
    "    - so if that particular bit position, j, is set, then we also display that element at set[j]"
   ]
  },
  {
   "cell_type": "code",
   "execution_count": 14,
   "metadata": {},
   "outputs": [
    {
     "name": "stdout",
     "output_type": "stream",
     "text": [
      "{ \n",
      "}\n",
      "\n",
      "{ \n",
      "a \n",
      "}\n",
      "\n",
      "{ \n",
      "b \n",
      "}\n",
      "\n",
      "{ \n",
      "a \n",
      "b \n",
      "}\n",
      "\n",
      "{ \n",
      "c \n",
      "}\n",
      "\n",
      "{ \n",
      "a \n",
      "c \n",
      "}\n",
      "\n",
      "{ \n",
      "b \n",
      "c \n",
      "}\n",
      "\n",
      "{ \n",
      "a \n",
      "b \n",
      "c \n",
      "}\n",
      "\n"
     ]
    }
   ],
   "source": [
    "function possibleSets(set) {\n",
    "    let n = set.length;\n",
    "    \n",
    "    // for let i < number of possible subsets\n",
    "    for(let i = 0; i < (1 << n); i++) {\n",
    "        console.log('{ ');\n",
    "        \n",
    "        // if flag has been set in our current number, i, at pos j\n",
    "        // display set[j]\n",
    "        for(let j = 0; j < n; j++) {\n",
    "            if( ( i & ( 1 << j ) ) > 0 ) {\n",
    "                console.log(set[j] + ' ');\n",
    "            }\n",
    "        }\n",
    "        \n",
    "        console.log(\"}\\n\");\n",
    "    }\n",
    "}\n",
    "\n",
    "possibleSets(['a', 'b', 'c']);\n",
    "\n",
    "// do remember that the empty set is also a subset\n",
    "// this applies for everything, even for graphs\n",
    "// so the empty graph is also a subgraph"
   ]
  },
  {
   "cell_type": "markdown",
   "metadata": {},
   "source": [
    "### Find the Largest Power of 2 that is Less Than or Equal To the Given Number N\n",
    "* essentially, we round the number up to the next nearest power of 2.\n",
    "* then we add 1 to the number and right shift it by 1 position which is basically dividing the number by 2\n",
    "* for our example, we use 14, which is 1110 and then we do bitwise OR with its right-shifted version by 1\n",
    "    - so 1110 | 0111 = 1111\n",
    "    - all of its bits are now 1 so we get 15\n",
    "    - then we do 15 + 1 = 16 which is the next nearest power of 2\n",
    "    - then we do a right shift: (15 + 1) >> 1 which is just 16 / 2\n",
    "    - and the nearest power of 2 is 8"
   ]
  },
  {
   "cell_type": "code",
   "execution_count": 2,
   "metadata": {},
   "outputs": [
    {
     "name": "stdout",
     "output_type": "stream",
     "text": [
      "{ n: '1111' }\n"
     ]
    },
    {
     "data": {
      "text/plain": [
       "8"
      ]
     },
     "execution_count": 2,
     "metadata": {},
     "output_type": "execute_result"
    }
   ],
   "source": [
    "function largestPower(n) {\n",
    "    // doing all these ensures that 32 bit ints are covered\n",
    "    n |= n >> 1;\n",
    "    n |= n >> 2;\n",
    "    n |= n >> 4;\n",
    "    n |= n >> 8;\n",
    "    console.log({n : n.toString(2)})\n",
    "    return (n + 1) >> 1;\n",
    "}\n",
    "\n",
    "largestPower(14)"
   ]
  },
  {
   "cell_type": "markdown",
   "metadata": {},
   "source": [
    "#### Alternate Way:\n",
    "* we essentially use the same logic as counting the number of 1-bits in the binary sequence\n",
    "* we eliminate the rightmost bit until the original number is 0\n",
    "    - but we keep the value of the number before it reaches 0\n",
    "    - that is what x is for\n",
    "* this one is a little bit faster but only by less than 1%"
   ]
  },
  {
   "cell_type": "code",
   "execution_count": 96,
   "metadata": {},
   "outputs": [
    {
     "name": "stdout",
     "output_type": "stream",
     "text": [
      "{ x: 14 }\n",
      "{ x: 12 }\n",
      "{ x: 8 }\n"
     ]
    },
    {
     "data": {
      "text/plain": [
       "8"
      ]
     },
     "execution_count": 96,
     "metadata": {},
     "output_type": "execute_result"
    }
   ],
   "source": [
    "function largestPowerAlt(n) {\n",
    "    let x;\n",
    "    while(n !== 0) {\n",
    "        x = n;\n",
    "        console.log({x})\n",
    "        n &= (n - 1);\n",
    "    }\n",
    "    return x;\n",
    "}\n",
    "\n",
    "largestPowerAlt(14);"
   ]
  },
  {
   "cell_type": "markdown",
   "metadata": {},
   "source": [
    "### Highest Power of 2 that Divides a Given Number\n",
    "* basically, you're just isolating the rightmost bit of the number and returning it\n",
    "* you can get the rightmost bit by doing:\n",
    "    1. x ^ (x & (x - 1) )\n",
    "    2. x & (-x) which is basically what the function is doing"
   ]
  },
  {
   "cell_type": "code",
   "execution_count": 1,
   "metadata": {},
   "outputs": [
    {
     "name": "stdout",
     "output_type": "stream",
     "text": [
      "11000000\n",
      "10111111\n"
     ]
    },
    {
     "data": {
      "text/plain": [
       "64"
      ]
     },
     "execution_count": 1,
     "metadata": {},
     "output_type": "execute_result"
    }
   ],
   "source": [
    "function highestPowerOf2(n) {\n",
    "    let mask = ~(n - 1);\n",
    "    console.log(n.toString(2));\n",
    "    console.log((n - 1).toString(2));\n",
    "    return n & mask;\n",
    "}\n",
    "\n",
    "// 192 = 11000000\n",
    "// 191 = 10111111\n",
    "//-191 = 01000000\n",
    "// 192 & 191 = 01000000 = 64\n",
    "highestPowerOf2(192);"
   ]
  }
 ],
 "metadata": {
  "kernelspec": {
   "display_name": "JavaScript (Node.js)",
   "language": "javascript",
   "name": "javascript"
  },
  "language_info": {
   "file_extension": ".js",
   "mimetype": "application/javascript",
   "name": "javascript",
   "version": "16.14.2"
  }
 },
 "nbformat": 4,
 "nbformat_minor": 2
}
