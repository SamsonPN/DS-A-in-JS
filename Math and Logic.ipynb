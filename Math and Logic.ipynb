{
 "cells": [
  {
   "cell_type": "markdown",
   "metadata": {},
   "source": [
    "## Prime Numbers\n",
    "* prime number: a number that can only be divided by 1 and itself\n",
    "* every positive integer can be constructed by a product of primes\n",
    "    - ex: 84 = 2^2 * 3^1 * 5^0 * 7^1 * 11^0 * 13^0 * 17^0 ...\n",
    "* if y % x === 0, then all primes in prime factorization of x is also in y\n",
    "    - let x = 2^j0 * 3^j1 * 5^j2 * 7^j3 * 11^j4\n",
    "    - let y = 2^k0 * 3^k1 * 5^k2 * 7^k3 * 11^k4\n",
    "    - then for all i, ji <= ki where i = 0 ... infinity\n",
    "* greatest common divisor of x and y:\n",
    "    - gcd(x, y) = 2^max(j0, k0) * 3^max(j1,k1) * 5^max(j2,k2)\n",
    "* least common multiple of x and y:\n",
    "    - lcm(x, y) = 2^min(j0, k0) * 3^min(j1,k1) * 5^min(j2,k2)\n",
    "* gcd * lcm = x * y"
   ]
  },
  {
   "cell_type": "markdown",
   "metadata": {},
   "source": [
    "### Checking if a number is prime\n",
    "* naive: for a number (n), check if n is divisible by 2 ... (n - 1)\n",
    "    - if any of these divides n, n is not a prime #\n",
    "* improved version\n",
    "    - loop through 2 ... sqrt(n) b/c once you go over sqrt(n), any #s before it would've been checkd already\n",
    "* optimized:\n",
    "    - all you need to do is check if __n is divislbe by a prime number__\n",
    "    - if it is divisible by a prime number, then it is NOT prime"
   ]
  },
  {
   "cell_type": "markdown",
   "metadata": {},
   "source": [
    "### Generate a list of prime numbers using The Sieve of Eratosthenes\n",
    "* general idea: recognizes that all non-prime numbers are divisible by a prime number\n",
    "***\n",
    "1. generate list of all numbers up to some max\n",
    "2. cross off all numbers divisible by 2\n",
    "3. then look for next prime number (not crossed off) and cross off all numbers divisible by it\n",
    "***\n",
    "* by the end, you'd end up with a list of prime numbers from 2 --> max"
   ]
  },
  {
   "cell_type": "code",
   "execution_count": 6,
   "metadata": {},
   "outputs": [
    {
     "name": "stdout",
     "output_type": "stream",
     "text": [
      "2\n",
      "3\n",
      "5\n",
      "7\n",
      "11\n",
      "13\n",
      "17\n",
      "19\n",
      "23\n",
      "29\n",
      "31\n",
      "37\n",
      "41\n",
      "43\n",
      "47\n",
      "53\n",
      "59\n",
      "61\n",
      "67\n",
      "71\n",
      "73\n",
      "79\n",
      "83\n",
      "89\n",
      "97\n"
     ]
    },
    {
     "data": {
      "text/plain": [
       "[\n",
       "  false, false, true,  true,  false, true,  false, true,  false,\n",
       "  false, false, true,  false, true,  false, false, false, true,\n",
       "  false, true,  false, false, false, true,  false, false, false,\n",
       "  false, false, true,  false, true,  false, false, false, false,\n",
       "  false, true,  false, false, false, true,  false, true,  false,\n",
       "  false, false, true,  false, false, false, false, false, true,\n",
       "  false, false, false, false, false, true,  false, true,  false,\n",
       "  false, false, false, false, true,  false, false, false, true,\n",
       "  false, true,  false, false, false, false, false, true,  false,\n",
       "  false, false, true,  false, false, false, false, false, true,\n",
       "  false, false, false, false, false, false, false, true,  false,\n",
       "  false,\n",
       "  ... 1 more item\n",
       "]"
      ]
     },
     "execution_count": 6,
     "metadata": {},
     "output_type": "execute_result"
    }
   ],
   "source": [
    "function sieveOfEratosthenes(max) {\n",
    "    let flags = [];\n",
    "    let count = 0;\n",
    "    init(flags, max);\n",
    "    let prime = 2;\n",
    "    \n",
    "    while(prime <= Math.sqrt(max)) {\n",
    "        // cross off remaining multiples of prime\n",
    "        crossOff(flags, prime);\n",
    "        \n",
    "        // find next value which is true\n",
    "        prime = getNextPrime(flags, prime);\n",
    "    }\n",
    "    flags.forEach((isPrime, num) => {\n",
    "        if(isPrime) {\n",
    "            console.log(num);\n",
    "        }\n",
    "    })\n",
    "    return flags;\n",
    "}\n",
    "\n",
    "function init(flags, max) {\n",
    "    while(max >= 0) {\n",
    "        flags[max] = (max === 1 || max === 0) ? false : true;\n",
    "        max--;\n",
    "    }\n",
    "}\n",
    "\n",
    "function crossOff(flags, prime) {\n",
    "    // cross off remaining multiples of prime. we can start with prime*prime\n",
    "    // b/c if we have a k * prime, where k < prime, this value would have already been\n",
    "    // crossed off in a prior iteration\n",
    "    \n",
    "    for(let i = prime * prime; i < flags.length; i += prime) {\n",
    "        flags[i] = false;\n",
    "    }\n",
    "}\n",
    "\n",
    "function getNextPrime(flags, prime) {\n",
    "    let next = prime + 1;\n",
    "    while(next < flags.length && !flags[next]) {\n",
    "        next++;\n",
    "    }\n",
    "    return next;\n",
    "}\n",
    "\n",
    "sieveOfEratosthenes(100);"
   ]
  },
  {
   "cell_type": "markdown",
   "metadata": {},
   "source": [
    "## Probability\n",
    "* Bayes' Theorem:\n",
    "    - P(A|B) = $\\frac{P(A) * P(B|A)}{P(B}$\n",
    "    - P(B|A) = $\\frac{P(B) * P(A|B)}{P(A}$\n",
    "        - P(A|B) = how often A happens __given__ that B happens\n",
    "        - P(B|A) = how often B happens __given__ that A happens\n",
    "        - P(A) = how likely A is to happen on its own\n",
    "        - P(B) = how likely B is to happen on its own\n",
    "    - can also be expressed as:\n",
    "        - P(B|A) = $\\frac{P(A and B)}{P(A}$\n",
    "* P(A or B) = P(A) + P(B) - P(A and B)\n",
    "* P(A and B) = P(A) * P(B|A)\n",
    "* Independent:\n",
    "    - P(A and B) = P(A) * P(B)\n",
    "    - the probability of these events happening and not dependent on the other \n",
    "* Mutual Exclusivity:\n",
    "    - P(A xor B) = P(A) + P(B)\n",
    "    - if one event happens, the other event cannot happen\n",
    "* 2 events CANNOT be both independent and mutually exclusive"
   ]
  },
  {
   "cell_type": "code",
   "execution_count": null,
   "metadata": {},
   "outputs": [],
   "source": []
  }
 ],
 "metadata": {
  "kernelspec": {
   "display_name": "Javascript (Node.js)",
   "language": "javascript",
   "name": "javascript"
  },
  "language_info": {
   "file_extension": ".js",
   "mimetype": "application/javascript",
   "name": "javascript",
   "version": "13.12.0"
  }
 },
 "nbformat": 4,
 "nbformat_minor": 2
}
