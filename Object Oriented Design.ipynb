{
 "cells": [
  {
   "cell_type": "markdown",
   "metadata": {},
   "source": [
    "## Approach:\n",
    "1. Handle Ambiguity\n",
    "    - use the 6 Ws: who, what, when, where, how, why\n",
    "    - should ask clarifying questions b/c these interview questions can be vague\n",
    "2. Define Core Objects\n",
    "    - core objects used in a system\n",
    "    - ex: design a restaurant\n",
    "        - tables, guests, party, order, meal, employee, server, host\n",
    "3. Analyze Relationships\n",
    "    - see how the core objects are related to each other\n",
    "    - are some objects members of others?\n",
    "    - do they inherit from others?\n",
    "    - one-many or many-many relationships?\n",
    "    - ex: party = array of guests, server/host inherit from employees, each table has 1 party, 1 host at a restaurant, etc\n",
    "4. Investigate Actions\n",
    "    - what actions does each object take and how do they relate to other objects?\n",
    "    - ex: party walks into restaurant, guest requests a table, etc"
   ]
  },
  {
   "cell_type": "markdown",
   "metadata": {},
   "source": [
    "## Design Patterns\n",
    "* a design pattern names, abstracts, and identifies the key aspects of a common object-oriented design.\n",
    "    - design pattern identifies participating classes and their instances, their roles and collaborations, and the distribution of responsibilities\n",
    "    - each design pattern focuses on a particular object-oriented design problem or issue\n",
    "    - it describes when it applies, whether or not it can be applied in view of other design constraints, and the conssequences and trade-offs of its use\n",
    "* most widely used in interviews: singleton and factory method\n",
    "\n",
    "### Categories of Design Patterns\n",
    "* Creational Design Patterns\n",
    "    - handles object creation methods where objects are created for a particular situation by giving one some control over the creation process\n",
    "    - e.g. Constructor, __Factory__, Abstract, Prototype, __Singleton__, and Builder\n",
    "* Structural Design Patterns\n",
    "    - concerned with object composition and identify simple ways to see relationships between different objects\n",
    "        - object composition = combining objects to make more complex ones\n",
    "    - helps parts of systems adapt to changes without changing the whole system\n",
    "    - e.g. Decorator, Facade, Flyweight, Adapter, and Proxy\n",
    "* Behavioral Design Patterns\n",
    "    - improves or streamlines communication between different objects in a system\n",
    "    - e.g. Iterator, Mediator, Observer, and Visitor"
   ]
  },
  {
   "cell_type": "markdown",
   "metadata": {},
   "source": [
    "## JavaScript Design Patterns"
   ]
  },
  {
   "cell_type": "markdown",
   "metadata": {},
   "source": [
    "### The Creational Pattern\n",
    "* deals with idea of creating new objects"
   ]
  },
  {
   "cell_type": "code",
   "execution_count": null,
   "metadata": {},
   "outputs": [],
   "source": [
    "// create a new object\n",
    "\n",
    "var newObject = {};\n",
    "\n",
    "var newObject = Object.create(null);\n",
    "\n",
    "var newObject = new Object();\n",
    "\n",
    "// assigning key-value pairs to an object\n",
    "\n",
    "// 1. Dot syntax\n",
    "newObject.someKey = 'Hello World';\n",
    "var key = newObject.someKey;\n",
    "\n",
    "// 2. Square bracket syntax\n",
    "newObject['someKey'] = 'Hello World';\n",
    "var key = newObject['someKey'];\n",
    "\n",
    "// 3. Object.defineProperty\n",
    "Object.defineProperty(newObject, 'someKey', {\n",
    "    value: \"for more control of the property's behavior\",\n",
    "    writable: true,\n",
    "    enumerable: true,\n",
    "    configurable: true\n",
    "});\n",
    "\n",
    "// shorthand\n",
    "var defineProp = function (obj, key, value) {\n",
    "    config.value = value;\n",
    "    Object.defineProperty(obj, key, config);\n",
    "}\n",
    "var man = Object.create(null);\n",
    "defineProp(man, 'car', 'Delorean');\n",
    "defineProp(man, 'dob', '1981');\n",
    "defineProp(man, 'beard', false);\n",
    "\n",
    "// 4. Object.defineProperties\n",
    "Object.defineProperties(newObject, {\n",
    "    \"someKey\": {\n",
    "        value: \"Hello World\",\n",
    "        writable: true\n",
    "    },\n",
    "    \"anotherKey\": {\n",
    "        value: \"Foo bar\",\n",
    "        writable: false\n",
    "    }\n",
    "});\n",
    "\n",
    "// methods can be used for inheritance too\n",
    "var driver = Object.create(man);\n",
    "defineProp(driver, 'topSpeed', '100mph');\n",
    "driver.topSpeed; // 100 mph"
   ]
  },
  {
   "cell_type": "markdown",
   "metadata": {},
   "source": [
    "### The Constructor Pattern\n",
    "* created to accept some parameters to set values of variables for use\n",
    "* also a good way to implement instances using the __new__ keyword\n",
    "* Basic Constructor:\n",
    "    - makes inheritance difficult b/c the toString() function is redefined for every instance of Car\n",
    "* Constructor With Prototypes:\n",
    "    - every new instance of car will be able to inherit the properties of the car's prototype\n",
    "    - thus, there doesn't need to be a new instance of the toString method for each instance of Car\n",
    "    - just uses that 1 instance of toString"
   ]
  },
  {
   "cell_type": "code",
   "execution_count": null,
   "metadata": {},
   "outputs": [],
   "source": [
    "// basic constructor\n",
    "function Car(model, year, miles) {\n",
    "    this.model = model;\n",
    "    this.year = year;\n",
    "    this.miles = miles;\n",
    "    this.toString = function() {\n",
    "        return this.model + \" has done \" + this.miles + \" miles\";\n",
    "    };\n",
    "}\n",
    "\n",
    "var civic = new Car(\"Honda Civic\", 2009, 20000);\n",
    "var mondeo = new Car(\"Ford Mondeo\", 2010, 5000);\n",
    "\n",
    "// constructors with prototypes\n",
    "function Car(model, year, miles) {\n",
    "    this.model = model;\n",
    "    this.year = year;\n",
    "    this.miles = miles;\n",
    "}\n",
    "\n",
    "Car.prototype.toString = function() {\n",
    "    return this.model + \" has done \" + this.miles + \" miles\";\n",
    "};\n",
    "\n",
    "var civic = new Car(\"Honda Civic\", 2009, 20000);\n",
    "var mondeo = new Car(\"Ford Mondeo\", 2010, 5000);"
   ]
  },
  {
   "cell_type": "markdown",
   "metadata": {},
   "source": [
    "### The Singleton Pattern\n",
    "* creates a class with a method that creates a new instance of the class or returns one that already exists\n",
    "    - so at any time, there is only ever going to be 1 instance of the class"
   ]
  },
  {
   "cell_type": "code",
   "execution_count": 5,
   "metadata": {},
   "outputs": [
    {
     "name": "stdout",
     "output_type": "stream",
     "text": [
      "something private\n",
      "the public can see this!\n",
      "undefined\n"
     ]
    }
   ],
   "source": [
    "// simplest form of a singleton\n",
    "var mySingleton = {\n",
    "    property1: \"something\",\n",
    "    property2: \"something else\",\n",
    "    method1: function() {\n",
    "        console.log('hello world')\n",
    "    }\n",
    "};\n",
    "\n",
    "// w/ private members and methods\n",
    "\n",
    "// encapsulates variable and function declaratins inside a closure\n",
    "var mySingleton = function() {\n",
    "    // private methods/variables\n",
    "    var privateVariable = 'something private';\n",
    "    \n",
    "    function showPrivate() {\n",
    "        console.log(privateVariable);\n",
    "    }\n",
    "    \n",
    "    // public variables and methods (which can access\n",
    "    // private variables and methods)\n",
    "    \n",
    "    return {\n",
    "        publicMethod: function() {\n",
    "            showPrivate();\n",
    "        },\n",
    "        publicVar: 'the public can see this!'\n",
    "    };\n",
    "};\n",
    "\n",
    "var single = mySingleton();\n",
    "single.publicMethod();\n",
    "console.log(single.publicVar);\n",
    "console.log(single.privateVariable); // not seen"
   ]
  },
  {
   "cell_type": "markdown",
   "metadata": {},
   "source": [
    "* only want to instantiate a singleton when it is needed\n",
    "    - placed inside another constructor function\n",
    "* singleton variable contains the ONLY instance of the singleton\n",
    "* use of a SELF-INVOKING function here\n",
    "***\n",
    "1. returns a function getInstance when self-invoked\n",
    "2. when we call Singleton.getInstance(), we check whether there is an instance of the singleton already\n",
    "    - if there isn't, we create one by calling init() and assigning it to the instantiated variable\n",
    "    - else if there is one already, just return it\n",
    "***\n",
    "* therefore, when we call Singleton.getInstance().publicMethod():\n",
    "    - the first time, init will be called\n",
    "    - the second time, it doesn't need to"
   ]
  },
  {
   "cell_type": "code",
   "execution_count": 12,
   "metadata": {},
   "outputs": [
    {
     "name": "stdout",
     "output_type": "stream",
     "text": [
      "hello world\n",
      "hello world\n"
     ]
    }
   ],
   "source": [
    "var Singleton = (function() {\n",
    "    var instantiated;\n",
    "    \n",
    "    // method for instantiating the singleton\n",
    "    // when it is needed\n",
    "    function init() {\n",
    "        //singleton here\n",
    "        return {\n",
    "            publicMethod: function() {\n",
    "                console.log('hello world');\n",
    "            },\n",
    "            publicProperty: 'test'\n",
    "        };\n",
    "    }\n",
    "    \n",
    "    return {\n",
    "        getInstance: function() {\n",
    "            if( !instantiated ) {\n",
    "                instantiated = init();\n",
    "            }\n",
    "            return instantiated;\n",
    "        }\n",
    "    };\n",
    "})();\n",
    "\n",
    "\n",
    "Singleton.getInstance().publicMethod();\n",
    "Singleton.getInstance().publicMethod();"
   ]
  },
  {
   "cell_type": "markdown",
   "metadata": {},
   "source": [
    "* singleton pattern is also useful when you only need one object to coordinate patterns across the system\n",
    "* similar to the previous example with a getInstance\n",
    "***\n",
    "1. returns a _static variable that emulates static variables in ES6 classes due to the self-invoking function and is assigned to SingletonTester variable\n",
    "2. SingletonTester.getInstance({pointX: 5}) is called:\n",
    "    - it checks whether there is already an instance assigned to the instance variable and calls Singleton if there isn't\n",
    "    - then it gets all the info from the options like a constructor would and assigns it to the constructor variables"
   ]
  },
  {
   "cell_type": "code",
   "execution_count": 24,
   "metadata": {},
   "outputs": [
    {
     "name": "stdout",
     "output_type": "stream",
     "text": [
      "5\n"
     ]
    }
   ],
   "source": [
    "var SingletonTester = (function(){\n",
    "    \n",
    "    // options: an object containing configuration options for the singleton\n",
    "    // e.g. var options = { name: 'test', pointX: 5};\n",
    "    function Singleton(options) {\n",
    "        \n",
    "        // set options to the options supplied or an empty object if none provided\n",
    "        options = options || {};\n",
    "        \n",
    "        // set the name parameter\n",
    "        this.name = 'SingletonTester';\n",
    "        \n",
    "        // set the value of pointX\n",
    "        this.pointX = options.pointX || 6;\n",
    "        \n",
    "        // set the value of pointY\n",
    "        this.pointY = options.pointY || 10;\n",
    "    }\n",
    "    \n",
    "    // instance holder\n",
    "    // private due to a closure\n",
    "    var instance;\n",
    "    \n",
    "    // emulation of static variables and methods\n",
    "    var _static = {\n",
    "        name: 'SingletonTester',\n",
    "        \n",
    "        // this is a method for getting an instance\n",
    "        // returns a singleton instance of a singleton object\n",
    "        getInstance: function(options) {\n",
    "            if (instance === undefined) {\n",
    "                instance = new Singleton(options);\n",
    "            }\n",
    "            return instance;\n",
    "        }\n",
    "    };\n",
    "    \n",
    "    return _static;\n",
    "})();\n",
    "\n",
    "var singletonTest = SingletonTester.getInstance({\n",
    "    pointX: 5\n",
    "});\n",
    "\n",
    "console.log(singletonTest.pointX); // outputs 5"
   ]
  },
  {
   "cell_type": "markdown",
   "metadata": {},
   "source": [
    "### The Module Pattern\n",
    "* based in part on object literals\n",
    "    - object literal = {key: value}\n",
    "    - can assist in encapsulating and organizing code\n",
    "* module pattern in JS is used to emulate some properties of classes in other languages such as public/private methods, and variables inside a single object\n",
    "    - reduces likelihood of conflicting function names in other parts of the code\n",
    "***\n",
    "#### Privacy\n",
    "* encapsulates 'privacy', state, and organization using __closures__\n",
    "    - helps protect against things leaking into the global scope\n",
    "    - closure = when an inner function has access to the variables of its outer function\n",
    "***\n",
    "#### Advantages\n",
    "1. clean implementation and easy to understand for developers used to an object-oriented language\n",
    "2. supports private methods and data and only the public parts of the code can interact with it\n",
    "***\n",
    "#### Disadvantages\n",
    "1. different ways of accessing public vs. private methods so if you change their accessibility, you must also change every part of your code that accessed it\n",
    "2. newly added methods cannot access the private members\n",
    "3. cannot create automated unit tests for private members and might be be harder to fix bugs"
   ]
  },
  {
   "cell_type": "code",
   "execution_count": 1,
   "metadata": {},
   "outputs": [
    {
     "name": "stdout",
     "output_type": "stream",
     "text": [
      "I can have functionality?\n",
      "enabled\n",
      "fr\n"
     ]
    }
   ],
   "source": [
    "// object literals\n",
    "\n",
    "var myModule = {\n",
    "    myProperty: 'someValue',\n",
    "    myConfig: {\n",
    "        useCaching: true,\n",
    "        language: 'en'\n",
    "    },\n",
    "    myMethod: function() {\n",
    "        console.log('I can have functionality?')\n",
    "    },\n",
    "    myMethod2: function() {\n",
    "        console.log('Caching is:' + (this.myConfig.useCaching) ? 'enabled' : 'disabled');\n",
    "    },\n",
    "    myMethod3: function(newConfig) {\n",
    "        if(typeof newConfig == 'object') {\n",
    "            this.myConfig = newConfig;\n",
    "            console.log(this.myConfig.language);\n",
    "        }\n",
    "    }\n",
    "}\n",
    "\n",
    "myModule.myMethod();\n",
    "myModule.myMethod2();\n",
    "myModule.myMethod3({\n",
    "    language: 'fr',\n",
    "    useCaching: false\n",
    "});"
   ]
  },
  {
   "cell_type": "code",
   "execution_count": 7,
   "metadata": {},
   "outputs": [
    {
     "name": "stdout",
     "output_type": "stream",
     "text": [
      "Counter value prior to reset: 3\n",
      "undefined\n"
     ]
    }
   ],
   "source": [
    "// module\n",
    "// counter is fully shielded from global scope\n",
    "\n",
    "var testModule = (function() {\n",
    "    var counter = 0;\n",
    "    return {\n",
    "        incrementCounter: function() {\n",
    "            return counter++;\n",
    "        },\n",
    "        resetCounter: function() {\n",
    "            console.log('Counter value prior to reset: ' + counter);\n",
    "            counter = 0;\n",
    "        }\n",
    "    };\n",
    "})();\n",
    "\n",
    "testModule.incrementCounter();\n",
    "testModule.incrementCounter();\n",
    "testModule.incrementCounter();\n",
    "testModule.resetCounter();\n",
    "console.log(testModule.counter); // can't access counter in testModule"
   ]
  },
  {
   "cell_type": "code",
   "execution_count": 8,
   "metadata": {},
   "outputs": [],
   "source": [
    "// simple template for module pattern\n",
    "\n",
    "var myNameSpace = (function() {\n",
    "    \n",
    "    // private\n",
    "    var myPrivateVar = 0;\n",
    "    var myPrivateMethod = function(someText) {\n",
    "        console.log(someText);\n",
    "    }\n",
    "    \n",
    "    // public\n",
    "    return {\n",
    "        \n",
    "        myPublicVar: 'foo',\n",
    "        \n",
    "        myPublicFunction: function(bar) {\n",
    "            myPrivateVar++;\n",
    "            myPrivateMethod(bar);\n",
    "        }\n",
    "    };\n",
    "    \n",
    "})();"
   ]
  },
  {
   "cell_type": "code",
   "execution_count": 10,
   "metadata": {},
   "outputs": [
    {
     "name": "stdout",
     "output_type": "stream",
     "text": [
      "2\n",
      "0.8\n",
      "undefined\n"
     ]
    },
    {
     "ename": "ReferenceError",
     "evalue": "basket is not defined",
     "output_type": "error",
     "traceback": [
      "evalmachine.<anonymous>:50",
      "console.log(basket); // basket was never declared outside of the function",
      "            ^",
      "",
      "ReferenceError: basket is not defined",
      "    at evalmachine.<anonymous>:50:13",
      "    at Script.runInThisContext (vm.js:131:20)",
      "    at Object.runInThisContext (vm.js:297:38)",
      "    at run ([eval]:1054:15)",
      "    at onRunRequest ([eval]:888:18)",
      "    at onMessage ([eval]:848:13)",
      "    at process.emit (events.js:315:20)",
      "    at emit (internal/child_process.js:881:12)",
      "    at processTicksAndRejections (internal/process/task_queues.js:85:21)"
     ]
    }
   ],
   "source": [
    "// another example\n",
    "// use of a self-invoking function to return an object filled with methods\n",
    "// these methods can be used to access/modify the private 'basket' variable\n",
    "\n",
    "var basketModule = (function() {\n",
    "    var basket = []; // private\n",
    "    function doSomethingPrivate() {\n",
    "        // ...\n",
    "    }\n",
    "    \n",
    "    function doSomethingElsePrivate() {\n",
    "        // ...\n",
    "    }\n",
    "    \n",
    "    // exposed to the public\n",
    "    return {\n",
    "        addItem: function(values) {\n",
    "            basket.push(values);\n",
    "        },\n",
    "        getItemCount: function() {\n",
    "            return basket.length;\n",
    "        },\n",
    "        doSomething: doSomethingPrivate(),\n",
    "        getTotal: function() {\n",
    "            var q = this.getItemCount();\n",
    "            var p = 0;\n",
    "            while(q--) {\n",
    "                p += basket[q].price;\n",
    "            }\n",
    "            return p;\n",
    "        }\n",
    "    }\n",
    "})();\n",
    "\n",
    "basketModule.addItem({\n",
    "    item: 'bread',\n",
    "    price: 0.5\n",
    "});\n",
    "\n",
    "basketModule.addItem({\n",
    "    item: 'butter',\n",
    "    price: 0.3\n",
    "});\n",
    "\n",
    "console.log(basketModule.getItemCount());\n",
    "console.log(basketModule.getTotal());\n",
    "\n",
    "// these will not work b/c basket is only within the scope of the self-invoking function\n",
    "console.log(basketModule.basket); // basket is private\n",
    "console.log(basket); // basket was never declared outside of the function"
   ]
  },
  {
   "cell_type": "markdown",
   "metadata": {},
   "source": [
    "### Revealing Module Pattern\n",
    "* defines all functions and variables in the private scope\n",
    "* returns an anonymous object with pointers to both private variables and functions that you want public\n",
    "***\n",
    "#### Advantages: \n",
    "1. allows for consistent syntax and the returned object tells you exactly which private methods/vars can be accessed publicly\n",
    "2. can reveal private functions with more specific names\n",
    "***\n",
    "#### Disadvantages:\n",
    "1. if a private function refers to a public function, the public function can't be overriden if a patch is necessary\n",
    "    - this is b/c private function will continue to refer to private implementation and pattern doesn't apply to public members\n",
    "2. can also not patch the members of the returned object members"
   ]
  },
  {
   "cell_type": "code",
   "execution_count": 13,
   "metadata": {},
   "outputs": [
    {
     "data": {
      "text/plain": [
       "'John Smith'"
      ]
     },
     "execution_count": 13,
     "metadata": {},
     "output_type": "execute_result"
    }
   ],
   "source": [
    "// example\n",
    "\n",
    "var myRevealingModule = (function() {\n",
    "    \n",
    "    // all vars and functions here are private\n",
    "    var name = 'John Smith';\n",
    "    \n",
    "    var age = 40;\n",
    "    \n",
    "    function updatePerson() {\n",
    "        name = 'John Smith Updated';\n",
    "    }\n",
    "    \n",
    "    function setPerson() {\n",
    "        name = 'John Smith Set';\n",
    "    }\n",
    "    \n",
    "    function getPerson() {\n",
    "        return name;\n",
    "    }\n",
    "    \n",
    "    // this return statement has pointers to the private methods\n",
    "    // that can be used publicly\n",
    "    return {\n",
    "        set: setPerson,\n",
    "        get: getPerson\n",
    "    };\n",
    "    \n",
    "})();\n",
    "\n",
    "myRevealingModule.get();"
   ]
  },
  {
   "cell_type": "markdown",
   "metadata": {},
   "source": [
    "### Observer Pattern"
   ]
  },
  {
   "cell_type": "markdown",
   "metadata": {},
   "source": [
    "### Prototype Pattern"
   ]
  },
  {
   "cell_type": "markdown",
   "metadata": {},
   "source": [
    "### Factory Pattern"
   ]
  },
  {
   "cell_type": "markdown",
   "metadata": {},
   "source": [
    "### Mixin Pattern"
   ]
  },
  {
   "cell_type": "code",
   "execution_count": null,
   "metadata": {},
   "outputs": [],
   "source": []
  }
 ],
 "metadata": {
  "kernelspec": {
   "display_name": "Javascript (Node.js)",
   "language": "javascript",
   "name": "javascript"
  },
  "language_info": {
   "file_extension": ".js",
   "mimetype": "application/javascript",
   "name": "javascript",
   "version": "13.12.0"
  }
 },
 "nbformat": 4,
 "nbformat_minor": 2
}
