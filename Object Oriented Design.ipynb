{
 "cells": [
  {
   "cell_type": "markdown",
   "metadata": {},
   "source": [
    "## Approach:\n",
    "1. Handle Ambiguity\n",
    "    - use the 6 Ws: who, what, when, where, how, why\n",
    "    - should ask clarifying questions b/c these interview questions can be vague\n",
    "2. Define Core Objects\n",
    "    - core objects used in a system\n",
    "    - ex: design a restaurant\n",
    "        - tables, guests, party, order, meal, employee, server, host\n",
    "3. Analyze Relationships\n",
    "    - see how the core objects are related to each other\n",
    "    - are some objects members of others?\n",
    "    - do they inherit from others?\n",
    "    - one-many or many-many relationships?\n",
    "    - ex: party = array of guests, server/host inherit from employees, each table has 1 party, 1 host at a restaurant, etc\n",
    "4. Investigate Actions\n",
    "    - what actions does each object take and how do they relate to other objects?\n",
    "    - ex: party walks into restaurant, guest requests a table, etc"
   ]
  },
  {
   "cell_type": "markdown",
   "metadata": {},
   "source": []
  },
  {
   "cell_type": "code",
   "execution_count": null,
   "metadata": {},
   "outputs": [],
   "source": []
  },
  {
   "cell_type": "code",
   "execution_count": null,
   "metadata": {},
   "outputs": [],
   "source": []
  },
  {
   "cell_type": "code",
   "execution_count": null,
   "metadata": {},
   "outputs": [],
   "source": []
  },
  {
   "cell_type": "code",
   "execution_count": null,
   "metadata": {},
   "outputs": [],
   "source": []
  },
  {
   "cell_type": "markdown",
   "metadata": {},
   "source": [
    "## Design Patterns\n",
    "* a design pattern names, abstracts, and identifies the key aspects of a common object-oriented design.\n",
    "    - design pattern identifies participating classes and their instances, their roles and collaborations, and the distribution of responsibilities\n",
    "    - each design pattern focuses on a particular object-oriented design problem or issue\n",
    "    - it describes when it applies, whether or not it can be applied in view of other design constraints, and the conssequences and trade-offs of its use\n",
    "* most widely used in interviews: singleton and factory method\n",
    "\n",
    "### Categories of Design Patterns\n",
    "* Creational Design Patterns\n",
    "    - handles object creation methods where objects are created for a particular situation by giving one some control over the creation process\n",
    "    - e.g. Constructor, __Factory__, Abstract, Prototype, __Singleton__, and Builder\n",
    "* Structural Design Patterns\n",
    "    - concerned with object composition and identify simple ways to see relationships between different objects\n",
    "        - object composition = combining objects to make more complex ones\n",
    "    - helps parts of systems adapt to changes without changing the whole system\n",
    "    - e.g. Decorator, Facade, Flyweight, Adapter, and Proxy\n",
    "* Behavioral Design Patterns\n",
    "    - improves or streamlines communication between different objects in a system\n",
    "    - e.g. Iterator, Mediator, Observer, and Visitor"
   ]
  },
  {
   "cell_type": "markdown",
   "metadata": {},
   "source": [
    "## JavaScript Design Patterns"
   ]
  },
  {
   "cell_type": "markdown",
   "metadata": {},
   "source": [
    "### The Creational Pattern\n",
    "* deals with idea of creating new objects"
   ]
  },
  {
   "cell_type": "code",
   "execution_count": null,
   "metadata": {},
   "outputs": [],
   "source": [
    "// create a new object\n",
    "\n",
    "var newObject = {};\n",
    "\n",
    "var newObject = Object.create(null);\n",
    "\n",
    "var newObject = new Object();\n",
    "\n",
    "// assigning key-value pairs to an object\n",
    "\n",
    "// 1. Dot syntax\n",
    "newObject.someKey = 'Hello World';\n",
    "var key = newObject.someKey;\n",
    "\n",
    "// 2. Square bracket syntax\n",
    "newObject['someKey'] = 'Hello World';\n",
    "var key = newObject['someKey'];\n",
    "\n",
    "// 3. Object.defineProperty\n",
    "Object.defineProperty(newObject, 'someKey', {\n",
    "    value: \"for more control of the property's behavior\",\n",
    "    writable: true,\n",
    "    enumerable: true,\n",
    "    configurable: true\n",
    "});\n",
    "\n",
    "// shorthand\n",
    "var defineProp = function (obj, key, value) {\n",
    "    config.value = value;\n",
    "    Object.defineProperty(obj, key, config);\n",
    "}\n",
    "var man = Object.create(null);\n",
    "defineProp(man, 'car', 'Delorean');\n",
    "defineProp(man, 'dob', '1981');\n",
    "defineProp(man, 'beard', false);\n",
    "\n",
    "// 4. Object.defineProperties\n",
    "Object.defineProperties(newObject, {\n",
    "    \"someKey\": {\n",
    "        value: \"Hello World\",\n",
    "        writable: true\n",
    "    },\n",
    "    \"anotherKey\": {\n",
    "        value: \"Foo bar\",\n",
    "        writable: false\n",
    "    }\n",
    "});\n",
    "\n",
    "// methods can be used for inheritance too\n",
    "var driver = Object.create(man);\n",
    "defineProp(driver, 'topSpeed', '100mph');\n",
    "driver.topSpeed; // 100 mph"
   ]
  },
  {
   "cell_type": "markdown",
   "metadata": {},
   "source": [
    "### The Constructor Pattern"
   ]
  },
  {
   "cell_type": "code",
   "execution_count": null,
   "metadata": {},
   "outputs": [],
   "source": []
  }
 ],
 "metadata": {
  "kernelspec": {
   "display_name": "Javascript (Node.js)",
   "language": "javascript",
   "name": "javascript"
  },
  "language_info": {
   "file_extension": ".js",
   "mimetype": "application/javascript",
   "name": "javascript",
   "version": "13.12.0"
  }
 },
 "nbformat": 4,
 "nbformat_minor": 2
}
