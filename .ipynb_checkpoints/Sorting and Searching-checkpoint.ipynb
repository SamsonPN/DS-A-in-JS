{
 "cells": [
  {
   "cell_type": "markdown",
   "metadata": {},
   "source": [
    "## Searching"
   ]
  },
  {
   "cell_type": "markdown",
   "metadata": {},
   "source": [
    "### Binary Search\n",
    "* only works on ordered lists\n",
    "* algorithm:\n",
    "    1. examine the middle item\n",
    "    2. if it is larger than what we are looking for then check arr.slice(0, middleIndex);\n",
    "    3. else, check arr.slice(middleIndex + 1, arr.length);\n",
    "***\n",
    "Analysis:\n",
    "* time complexity: O(log n)\n",
    "    - b/c the item continually splits the array in half every time the item isn't found\n",
    "* space complexity: O(log n) for a recursive approach but is O(1) for an iterative approach\n",
    "    - this is b/c recursive calls gets pushed onto a stack and there are going to be log n function calls on the stack\n",
    "    - iterative approach does not implicitly use a stack, so just O(1)"
   ]
  },
  {
   "cell_type": "code",
   "execution_count": 8,
   "metadata": {},
   "outputs": [
    {
     "name": "stdout",
     "output_type": "stream",
     "text": [
      "true\n",
      "true\n",
      "-1\n"
     ]
    }
   ],
   "source": [
    "function binarySearch(item, arr) {\n",
    "    return _binarySearch(item, arr, 0, arr.length - 1);\n",
    "};\n",
    "\n",
    "function _binarySearch(item, arr, start, end) {\n",
    "    // to prevent int overflow\n",
    "    let mid = Math.trunc(start + ((end - start) / 2));\n",
    "    if(end < start) {\n",
    "        return -1;\n",
    "    }\n",
    "    if(arr[mid] === item) {\n",
    "        return true;\n",
    "    }\n",
    "    else if (arr[mid] > item ) {\n",
    "        return _binarySearch(item, arr, start, mid - 1);\n",
    "    }\n",
    "    else {\n",
    "        return _binarySearch(item, arr, mid + 1, end);\n",
    "    }\n",
    "}\n",
    "\n",
    "var list = [3, 5, 6, 8, 11, 12, 14, 15, 17, 18];\n",
    "console.log(binarySearch(3, list)); // true\n",
    "console.log(binarySearch(18, list)); // true\n",
    "console.log(binarySearch(9, list)); // -1"
   ]
  },
  {
   "cell_type": "markdown",
   "metadata": {},
   "source": [
    "## Sorting"
   ]
  },
  {
   "cell_type": "markdown",
   "metadata": {},
   "source": [
    "### Bubble Sort\n",
    "* Algorithm:\n",
    "    1. start at the beginning of the list\n",
    "    2. if the current item is larger than the next item, then switch places\n",
    "    3. else, move onto the next item in the list\n",
    "    4. continue doing this until all items are sorted\n",
    "    \n",
    "***\n",
    "Analysis:\n",
    "* time complexity: O(n$^{2}$)\n",
    "    - this is b/c there will be (n - 1) passes through the list to completely sort a list of size n\n",
    "    - and for each pass, there are (n - 1) comparisons to be made\n",
    "* space complexity: O(1)\n",
    "\n",
    "***\n",
    "Short Bubble Sort:\n",
    "* a variation on bubble sort\n",
    "* allows the algorithm to stop early if the arr is already sorted\n",
    "    - it can stop early unlike other sorting algorithms which can be an advantage"
   ]
  },
  {
   "cell_type": "code",
   "execution_count": 15,
   "metadata": {},
   "outputs": [
    {
     "name": "stdout",
     "output_type": "stream",
     "text": [
      "[\n",
      "  1,  3,  4,  5,  6,\n",
      "  7, 14, 16, 19, 20\n",
      "]\n",
      "[\n",
      "  17, 20, 26, 31, 44,\n",
      "  54, 55, 77, 93\n",
      "]\n"
     ]
    }
   ],
   "source": [
    "function bubbleSort(arr) {\n",
    "    for(let i = arr.length - 1; i >= 0; i--) {\n",
    "        for(let j = 0; j < i; j++) {\n",
    "            if(arr[j] > arr[j + 1]) {\n",
    "                // destructuring assignment\n",
    "                // that allows for swapping of values\n",
    "                // without a temp variable\n",
    "                [arr[j], arr[j + 1]] = [arr[j + 1], arr[j]];\n",
    "            }\n",
    "        }\n",
    "    }\n",
    "    return arr;\n",
    "}\n",
    "\n",
    "var set = [3, 7, 14, 6, 20, 1, 19, 16, 5, 4];\n",
    "var alist = [54, 26, 93, 17, 77, 31, 44, 55, 20];\n",
    "console.log(bubbleSort(set)); // [1, 3, 4, 5, 6, 7, 14, 16, 19, 20]\n",
    "console.log(bubbleSort(alist)); // [17, 20, 26, 31, 44, 54, 55, 77, 93]"
   ]
  },
  {
   "cell_type": "code",
   "execution_count": 22,
   "metadata": {},
   "outputs": [
    {
     "name": "stdout",
     "output_type": "stream",
     "text": [
      "{\n",
      "  arr: [\n",
      "     3,  5,  6,  8, 11,\n",
      "    12, 14, 15, 17, 18\n",
      "  ],\n",
      "  passesRemaining: 8\n",
      "}\n",
      "{\n",
      "  arr: [\n",
      "     3,  5,  6,  8, 11,\n",
      "    12, 14, 15, 17, 18\n",
      "  ],\n",
      "  passesRemaining: 7\n",
      "}\n",
      "{\n",
      "  arr: [\n",
      "    1,  3,  4,  5,  6,\n",
      "    7, 14, 16, 19, 20\n",
      "  ],\n",
      "  passesRemaining: 1\n",
      "}\n"
     ]
    }
   ],
   "source": [
    "function shortBubbleSort(arr) {\n",
    "    let unsorted = true;\n",
    "    let passesRemaining = arr.length - 1;\n",
    "    while (passesRemaining > 0 && unsorted) {\n",
    "        unsorted = false;\n",
    "        for(let j = 0; j < passesRemaining; j++) {\n",
    "            if(arr[j] > arr[j + 1]) {\n",
    "                unsorted = true;\n",
    "                [arr[j], arr[j + 1]] = [arr[j + 1], arr[j]];\n",
    "            }\n",
    "        }\n",
    "       passesRemaining--; \n",
    "    }\n",
    "    return {arr, passesRemaining};\n",
    "}\n",
    "\n",
    "var ordered = [3, 5, 6, 8, 11, 12, 14, 15, 17, 18];\n",
    "var unorderedBy1 = [3, 5, 6, 8, 11, 14, 12, 15, 17, 18];\n",
    "var unordered = [3, 7, 14, 6, 20, 1, 19, 16, 5, 4];\n",
    "console.log(shortBubbleSort(ordered));\n",
    "console.log(shortBubbleSort(unorderedBy1));\n",
    "console.log(shortBubbleSort(unordered));"
   ]
  },
  {
   "cell_type": "markdown",
   "metadata": {},
   "source": [
    "### Selection Sort\n",
    "* similar to selection sort except you make 1 exchange every sort\n",
    "* Algorithm:\n",
    "    1. start at index 0\n",
    "    2. have a pointer pass through the entire list\n",
    "    3. if the pointer is placed on an item larger than the one at index 0, then swap, else move on\n",
    "    4. keep doing this for every index until you reach the nth index\n",
    "\n",
    "***\n",
    "Analysis:\n",
    "* time complexity: O(n$^{2}$)\n",
    "    - exactly the same as bubble sort b/c has the same number of passes and the same number of comparisons per pass\n",
    "    - in practice, this sort will be faster than bubble sort due to the smaller number of exchanges.\n",
    "* space complexity: O(1)"
   ]
  },
  {
   "cell_type": "code",
   "execution_count": 29,
   "metadata": {},
   "outputs": [
    {
     "name": "stdout",
     "output_type": "stream",
     "text": [
      "[\n",
      "  1,  3,  4,  5,  6,\n",
      "  7, 14, 16, 19, 20\n",
      "]\n",
      "[\n",
      "  17, 20, 26, 31, 44,\n",
      "  54, 55, 77, 93\n",
      "]\n"
     ]
    }
   ],
   "source": [
    "function selectionSort(arr) {\n",
    "    // this for loop decrements from last index to 0\n",
    "    for(let i = arr.length - 1; i > 0; i--) {\n",
    "        let posMax = 0;\n",
    "        /*\n",
    "            * this for loop moves from 0 --> i + 1 to check for max\n",
    "            * reason for j < i + 1 b/c there is a possibility that\n",
    "            the arr[i] is the max for that pass\n",
    "            so need to check that too!\n",
    "        */\n",
    "        for(let j = 0; j < i + 1; j++) {\n",
    "            if(arr[j] > arr[posMax]) {\n",
    "                posMax = j;\n",
    "            }\n",
    "        }\n",
    "        [arr[i], arr[posMax]] = [arr[posMax], arr[i]];\n",
    "    }\n",
    "    return arr;\n",
    "}\n",
    "\n",
    "var set = [3, 7, 14, 6, 20, 1, 19, 16, 5, 4];\n",
    "var alist = [54, 26, 93, 17, 77, 31, 44, 55, 20];\n",
    "console.log(selectionSort(set));\n",
    "console.log(selectionSort(alist));"
   ]
  },
  {
   "cell_type": "markdown",
   "metadata": {},
   "source": [
    "### Insertion Sort\n",
    "* has a sublist of sorted elements at the beginning of the list and any new items are then inserted into this list\n",
    "* Algorithm:\n",
    "    1. assume index 0 is already sorted and start with a pointer at index 1\n",
    "    2. you then compare the value at the pointer and move backwards until you reach 0\n",
    "    3. if the value of the previous values are greater than the one at the pointer, then shift the previous ones up\n",
    "    4. if the value of the previous is less than the one at the pointer, then put the pointer value at that position\n",
    "* so essentially, you only move the pointer one at a time and you insert the value at the pointer in the correct spot in the values before it\n",
    "    - so if you're at index 10, then indices at 0 --> 9 are already sorted\n",
    "    - you just shift the values at those indices up until you find the right position for the current value\n",
    "\n",
    "***\n",
    "Analysis:\n",
    "* time complexity: O(n$^{2}$)\n",
    "    - there are n - 1 passes to sort n items\n",
    "    - and there are going to be n - 1 comparisons\n",
    "* space complexity: O(1)\n",
    "* since you only perform one exchange at the end of each pass and shifts are about 1/3 of the work of exchanges, it will have good performance on benchmarks compared to bubble sort"
   ]
  },
  {
   "cell_type": "code",
   "execution_count": 33,
   "metadata": {},
   "outputs": [
    {
     "name": "stdout",
     "output_type": "stream",
     "text": [
      "[\n",
      "  1,  3,  4,  5,  6,\n",
      "  7, 14, 16, 19, 20\n",
      "]\n",
      "[\n",
      "  17, 20, 26, 31, 44,\n",
      "  54, 55, 77, 93\n",
      "]\n"
     ]
    }
   ],
   "source": [
    "function insertionSort(arr) {\n",
    "    // assumes i = 0 is already sorted\n",
    "    // so starts at i = 1\n",
    "    for(let i = 1; i < arr.length; i++) {\n",
    "        // saves the currentValue to do the exchange later\n",
    "        let currentValue = arr[i];\n",
    "        let position = i;\n",
    "        \n",
    "        // this loop finds the position to place the currentValue into\n",
    "        // if we have found the right spot for the current value\n",
    "        // then exit the loop\n",
    "        while(position > 0 && arr[position - 1] > currentValue) {\n",
    "            // shifts the larger item to the right\n",
    "            // since we already have a var to keep track of the\n",
    "            // value at i, we can just override the current position\n",
    "            arr[position] = arr[position - 1];\n",
    "            position--;\n",
    "        }\n",
    "        \n",
    "        arr[position] = currentValue;\n",
    "    }\n",
    "}\n",
    "\n",
    "var set = [3, 7, 14, 6, 20, 1, 19, 16, 5, 4];\n",
    "var alist = [54, 26, 93, 17, 77, 31, 44, 55, 20];\n",
    "console.log(selectionSort(set));\n",
    "console.log(selectionSort(alist));"
   ]
  },
  {
   "cell_type": "markdown",
   "metadata": {},
   "source": [
    "### Shell Sort\n",
    "* improvement on insertion sort by breaking list into smaller sublists\n",
    "* sublists are not contiguous and instead rely on a gap to create a sublist that are a certain value apart\n",
    "* Algorithm:\n",
    "    1. start at index 0\n",
    "    2. figure out the gap that you want to create the sublist\n",
    "        - in this case, we halve the length of the arr until gap is 1\n",
    "        - so if arr.length = 10, then gap = 5, 2, then 1\n",
    "    3. then do an insertion sort with gaps\n",
    "        - normal insertion sort is just a gap of 1 for every pass\n",
    "        - but with shellShort, you have large gaps then progressively smaller gaps until the whole list is sorted\n",
    "\n",
    "***\n",
    "Analysis:\n",
    "* time complexity: between O(n) and O(n$^{2}$)\n",
    "    - this is b/c the list progressively gets sorted every time and every pass gets more and more efficient\n",
    "    - the gap used is also an indicator on how efficient it is\n",
    "        - with the gap halving every time, it tends to be O(n$^{2}$)\n",
    "        - with a gap that uses 2$^{k}$ - 1 formula, then it can perform at O(n$^\\frac{3}{2}$)"
   ]
  },
  {
   "cell_type": "code",
   "execution_count": 36,
   "metadata": {},
   "outputs": [
    {
     "name": "stdout",
     "output_type": "stream",
     "text": [
      "After increments of size 5, the list is 1,7,14,5,4,3,19,16,6,20\n",
      "After increments of size 2, the list is 1,3,4,5,6,7,14,16,19,20\n",
      "After increments of size 1, the list is 1,3,4,5,6,7,14,16,19,20\n",
      "[\n",
      "  1,  3,  4,  5,  6,\n",
      "  7, 14, 16, 19, 20\n",
      "]\n",
      "After increments of size 4, the list is 20,26,44,17,54,31,93,55,77\n",
      "After increments of size 2, the list is 20,17,44,26,54,31,77,55,93\n",
      "After increments of size 1, the list is 17,20,26,31,44,54,55,77,93\n",
      "[\n",
      "  17, 20, 26, 31, 44,\n",
      "  54, 55, 77, 93\n",
      "]\n"
     ]
    }
   ],
   "source": [
    "function shellSort(arr) {\n",
    "    let sublistCount = Math.trunc(arr.length / 2);\n",
    "    \n",
    "    while(sublistCount > 0) {\n",
    "        for(let i = 0; i < sublistCount; i++) {\n",
    "            gapInsertionSort(arr, i, sublistCount)\n",
    "        }\n",
    "        console.log(`After increments of size ${sublistCount}, the list is ${arr}`) ;\n",
    "        sublistCount = Math.trunc(sublistCount / 2);\n",
    "    }\n",
    "    return arr;\n",
    "}\n",
    "\n",
    "function gapInsertionSort(arr, start, gap) {\n",
    "    for(let i = start + gap; i < arr.length; i += gap) {\n",
    "        let currentValue = arr[i];\n",
    "        let position = i;\n",
    "        \n",
    "        while(position >= gap && arr[position - gap] > currentValue) {\n",
    "            arr[position] = arr[position - gap];\n",
    "            position -= gap;\n",
    "        }\n",
    "        \n",
    "        arr[position] = currentValue;\n",
    "    }\n",
    "}\n",
    "\n",
    "var set = [3, 7, 14, 6, 20, 1, 19, 16, 5, 4];\n",
    "var alist = [54, 26, 93, 17, 77, 31, 44, 55, 20];\n",
    "console.log(shellSort(set));\n",
    "console.log(shellSort(alist));"
   ]
  },
  {
   "cell_type": "markdown",
   "metadata": {},
   "source": [
    "### Merge Sort\n",
    "* continually splits the array in half until the subarrays are empty or has 1 item in it (base case)\n",
    "* then once the halves are sorted, they are merged together to create a larger sorted array\n",
    "* Algorithm:\n",
    "    1. base case: if the length of the list is 0 or 1, then do nothing\n",
    "    2. if the list length > 2, then split the list into two halves: leftHalf and rightHalf\n",
    "    3. recurse on those halves until they are split into subarrays of length 1 or 0\n",
    "    4. then once your two halves are small enough, merge them together\n",
    "        - compare the leftHalf and rightHalf and put the smaller value from both into the list\n",
    "        - increment the index of the half that you got the value from\n",
    "        - then when one of the halves is empty, add the rest of that half into the original list\n",
    "    5. keep repeating until the whole list is sorted\n",
    "\n",
    "***\n",
    "Analysis:\n",
    "* time complexity: O(nlogn)\n",
    "    - the first process continually splits the list in half until it has a length of 0 or 1. this is O(log n) \n",
    "    - the second process merges the two halves together. since it will have to process n elements, i.e. compare elements of the two halves to put into the original list, this is O(n)\n",
    "    - since the merge happens for every split and there are log n splits\n",
    "* space complexity: O(n)\n",
    "    - this is b/c you need space to store the two halves of the array every time it is split\n",
    "    - it is not O(nlogn) space b/c you recurse on the leftHalf first THEN the rightHalf, and you never do this in parallel. so by the time you start recursing on the rightHalf, your leftHalf function calls will have returned\n",
    "    - there's also O(log n) function calls in the stack but it's not the dominant term so we remove it\n",
    "* this particular implementation uses the slice operator so there is an O(k) added onto the time complexity as well but this can be removed if we just used pointers and did everything in place"
   ]
  },
  {
   "cell_type": "code",
   "execution_count": 65,
   "metadata": {},
   "outputs": [
    {
     "name": "stdout",
     "output_type": "stream",
     "text": [
      "[\n",
      "  1,  3,  4,  5,  6,\n",
      "  7, 14, 16, 19, 20\n",
      "]\n",
      "[\n",
      "  17, 20, 26, 31, 44,\n",
      "  54, 55, 77, 93\n",
      "]\n"
     ]
    }
   ],
   "source": [
    "function mergeSort(list) {\n",
    "    if(list.length > 1) {\n",
    "        let mid = Math.trunc(list.length / 2);\n",
    "        let leftHalf = list.slice(0, mid);\n",
    "        let rightHalf = list.slice(mid);\n",
    "        \n",
    "        mergeSort(leftHalf);\n",
    "        mergeSort(rightHalf);\n",
    "        \n",
    "        merge(list, leftHalf, rightHalf);\n",
    "    }\n",
    "    return;\n",
    "}\n",
    "\n",
    "// O(n)\n",
    "function merge(list, leftHalf, rightHalf) {\n",
    "    let leftIndex = 0;\n",
    "    let rightIndex = 0;\n",
    "    let listIndex = 0;\n",
    "    \n",
    "    // compares items from both halves and puts the smallest\n",
    "    // one into the original list\n",
    "    // then we increment the index of the half that we took the\n",
    "    // smaller value from\n",
    "    while (leftIndex < leftHalf.length && rightIndex < rightHalf.length) {\n",
    "        // the '<=' makes the algorithm stable\n",
    "        // to account for duplicates!!!\n",
    "        if(leftHalf[leftIndex] <= rightHalf[rightIndex]) {\n",
    "            list[listIndex] = leftHalf[leftIndex];\n",
    "            leftIndex++;\n",
    "        }\n",
    "        else {\n",
    "            list[listIndex] = rightHalf[rightIndex];\n",
    "            rightIndex++;\n",
    "        }\n",
    "        // then we increment the listIndex to move on\n",
    "        listIndex++;\n",
    "    }\n",
    "    \n",
    "    // if we go through all of the elements in the rightHalf\n",
    "    // then add remaining values from the leftHalf\n",
    "    while(leftIndex < leftHalf.length) {\n",
    "        list[listIndex] = leftHalf[leftIndex];\n",
    "        leftIndex++;\n",
    "        listIndex++;\n",
    "    }\n",
    "    \n",
    "    // if we go through all of the elements in the leftHalf\n",
    "    // then add remaining values from the rightHalf\n",
    "    while(rightIndex < rightHalf.length) {\n",
    "        list[listIndex] = rightHalf[rightIndex];\n",
    "        rightIndex++;\n",
    "        listIndex++;\n",
    "    }\n",
    "}\n",
    "\n",
    "var set = [3, 7, 14, 6, 20, 1, 19, 16, 5, 4];\n",
    "var alist = [54, 26, 93, 17, 77, 31, 44, 55, 20];\n",
    "mergeSort(set);\n",
    "console.log(set)\n",
    "mergeSort(alist);\n",
    "console.log(alist);"
   ]
  },
  {
   "cell_type": "markdown",
   "metadata": {},
   "source": [
    "### Quick Sort"
   ]
  },
  {
   "cell_type": "markdown",
   "metadata": {},
   "source": [
    "### Bucket Sort/Radix Sort\n",
    "* find notes for these as well"
   ]
  },
  {
   "cell_type": "code",
   "execution_count": null,
   "metadata": {},
   "outputs": [],
   "source": []
  },
  {
   "cell_type": "code",
   "execution_count": null,
   "metadata": {},
   "outputs": [],
   "source": []
  },
  {
   "cell_type": "code",
   "execution_count": null,
   "metadata": {},
   "outputs": [],
   "source": []
  },
  {
   "cell_type": "code",
   "execution_count": null,
   "metadata": {},
   "outputs": [],
   "source": []
  }
 ],
 "metadata": {
  "kernelspec": {
   "display_name": "Javascript (Node.js)",
   "language": "javascript",
   "name": "javascript"
  },
  "language_info": {
   "file_extension": ".js",
   "mimetype": "application/javascript",
   "name": "javascript",
   "version": "13.12.0"
  }
 },
 "nbformat": 4,
 "nbformat_minor": 2
}
