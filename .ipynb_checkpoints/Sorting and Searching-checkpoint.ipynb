{
 "cells": [
  {
   "cell_type": "markdown",
   "metadata": {},
   "source": [
    "## Searching"
   ]
  },
  {
   "cell_type": "markdown",
   "metadata": {},
   "source": [
    "### Binary Search\n",
    "* only works on ordered lists\n",
    "* algorithm:\n",
    "    1. examine the middle item\n",
    "    2. if it is larger than what we are looking for then check arr.slice(0, middleIndex);\n",
    "    3. else, check arr.slice(middleIndex + 1, arr.length);\n",
    "***\n",
    "Analysis:\n",
    "* time complexity: O(log n)\n",
    "    - b/c the item continually splits the array in half every time the item isn't found\n",
    "* space complexity: O(log n) for a recursive approach but is O(1) for an iterative approach\n",
    "    - this is b/c recursive calls gets pushed onto a stack and there are going to be log n function calls on the stack\n",
    "    - iterative approach does not implicitly use a stack, so just O(1)"
   ]
  },
  {
   "cell_type": "code",
   "execution_count": 8,
   "metadata": {},
   "outputs": [
    {
     "name": "stdout",
     "output_type": "stream",
     "text": [
      "true\n",
      "true\n",
      "-1\n"
     ]
    }
   ],
   "source": [
    "function binarySearch(item, arr) {\n",
    "    return _binarySearch(item, arr, 0, arr.length - 1);\n",
    "};\n",
    "\n",
    "function _binarySearch(item, arr, start, end) {\n",
    "    // to prevent int overflow\n",
    "    let mid = Math.trunc(start + ((end - start) / 2));\n",
    "    if(end < start) {\n",
    "        return -1;\n",
    "    }\n",
    "    if(arr[mid] === item) {\n",
    "        return true;\n",
    "    }\n",
    "    else if (arr[mid] > item ) {\n",
    "        return _binarySearch(item, arr, start, mid - 1);\n",
    "    }\n",
    "    else {\n",
    "        return _binarySearch(item, arr, mid + 1, end);\n",
    "    }\n",
    "}\n",
    "\n",
    "var list = [3, 5, 6, 8, 11, 12, 14, 15, 17, 18];\n",
    "console.log(binarySearch(3, list)); // true\n",
    "console.log(binarySearch(18, list)); // true\n",
    "console.log(binarySearch(9, list)); // -1"
   ]
  },
  {
   "cell_type": "markdown",
   "metadata": {},
   "source": [
    "## Sorting"
   ]
  },
  {
   "cell_type": "markdown",
   "metadata": {},
   "source": [
    "### Bubble Sort\n",
    "* Algorithm:\n",
    "    1. start at the beginning of the list\n",
    "    2. if the current item is larger than the next item, then switch places\n",
    "    3. else, move onto the next item in the list\n",
    "    4. continue doing this until all items are sorted\n",
    "    \n",
    "***\n",
    "Analysis:\n",
    "* time complexity: O(n$^{2}$)\n",
    "    - this is b/c there will be (n - 1) passes through the list to completely sort a list of size n\n",
    "    - and for each pass, there are (n - 1) comparisons to be made\n",
    "* space complexity: O(1)\n",
    "\n",
    "***\n",
    "Short Bubble Sort:\n",
    "* a variation on bubble sort\n",
    "* allows the algorithm to stop early if the arr is already sorted\n",
    "    - it can stop early unlike other sorting algorithms which can be an advantage"
   ]
  },
  {
   "cell_type": "code",
   "execution_count": 15,
   "metadata": {},
   "outputs": [
    {
     "name": "stdout",
     "output_type": "stream",
     "text": [
      "[\n",
      "  1,  3,  4,  5,  6,\n",
      "  7, 14, 16, 19, 20\n",
      "]\n",
      "[\n",
      "  17, 20, 26, 31, 44,\n",
      "  54, 55, 77, 93\n",
      "]\n"
     ]
    }
   ],
   "source": [
    "function bubbleSort(arr) {\n",
    "    for(let i = arr.length - 1; i >= 0; i--) {\n",
    "        for(let j = 0; j < i; j++) {\n",
    "            if(arr[j] > arr[j + 1]) {\n",
    "                // destructuring assignment\n",
    "                // that allows for swapping of values\n",
    "                // without a temp variable\n",
    "                [arr[j], arr[j + 1]] = [arr[j + 1], arr[j]];\n",
    "            }\n",
    "        }\n",
    "    }\n",
    "    return arr;\n",
    "}\n",
    "\n",
    "var set = [3, 7, 14, 6, 20, 1, 19, 16, 5, 4];\n",
    "var alist = [54, 26, 93, 17, 77, 31, 44, 55, 20];\n",
    "console.log(bubbleSort(set)); // [1, 3, 4, 5, 6, 7, 14, 16, 19, 20]\n",
    "console.log(bubbleSort(alist)); // [17, 20, 26, 31, 44, 54, 55, 77, 93]"
   ]
  },
  {
   "cell_type": "code",
   "execution_count": 22,
   "metadata": {},
   "outputs": [
    {
     "name": "stdout",
     "output_type": "stream",
     "text": [
      "{\n",
      "  arr: [\n",
      "     3,  5,  6,  8, 11,\n",
      "    12, 14, 15, 17, 18\n",
      "  ],\n",
      "  passesRemaining: 8\n",
      "}\n",
      "{\n",
      "  arr: [\n",
      "     3,  5,  6,  8, 11,\n",
      "    12, 14, 15, 17, 18\n",
      "  ],\n",
      "  passesRemaining: 7\n",
      "}\n",
      "{\n",
      "  arr: [\n",
      "    1,  3,  4,  5,  6,\n",
      "    7, 14, 16, 19, 20\n",
      "  ],\n",
      "  passesRemaining: 1\n",
      "}\n"
     ]
    }
   ],
   "source": [
    "function shortBubbleSort(arr) {\n",
    "    let unsorted = true;\n",
    "    let passesRemaining = arr.length - 1;\n",
    "    while (passesRemaining > 0 && unsorted) {\n",
    "        unsorted = false;\n",
    "        for(let j = 0; j < passesRemaining; j++) {\n",
    "            if(arr[j] > arr[j + 1]) {\n",
    "                unsorted = true;\n",
    "                [arr[j], arr[j + 1]] = [arr[j + 1], arr[j]];\n",
    "            }\n",
    "        }\n",
    "       passesRemaining--; \n",
    "    }\n",
    "    return {arr, passesRemaining};\n",
    "}\n",
    "\n",
    "var ordered = [3, 5, 6, 8, 11, 12, 14, 15, 17, 18];\n",
    "var unorderedBy1 = [3, 5, 6, 8, 11, 14, 12, 15, 17, 18];\n",
    "var unordered = [3, 7, 14, 6, 20, 1, 19, 16, 5, 4];\n",
    "console.log(shortBubbleSort(ordered));\n",
    "console.log(shortBubbleSort(unorderedBy1));\n",
    "console.log(shortBubbleSort(unordered));"
   ]
  },
  {
   "cell_type": "markdown",
   "metadata": {},
   "source": [
    "### Selection Sort"
   ]
  },
  {
   "cell_type": "code",
   "execution_count": null,
   "metadata": {},
   "outputs": [],
   "source": []
  },
  {
   "cell_type": "code",
   "execution_count": null,
   "metadata": {},
   "outputs": [],
   "source": []
  }
 ],
 "metadata": {
  "kernelspec": {
   "display_name": "Javascript (Node.js)",
   "language": "javascript",
   "name": "javascript"
  },
  "language_info": {
   "file_extension": ".js",
   "mimetype": "application/javascript",
   "name": "javascript",
   "version": "13.12.0"
  }
 },
 "nbformat": 4,
 "nbformat_minor": 2
}
