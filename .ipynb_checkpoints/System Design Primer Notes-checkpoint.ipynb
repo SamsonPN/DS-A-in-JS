{
 "cells": [
  {
   "cell_type": "markdown",
   "id": "4dfd7966",
   "metadata": {},
   "source": [
    "## Performance vs. Scalability\n",
    "\n",
    "* a service is __scalable__ if it results in increased __performance__ in a manner proportional to resources added.\n",
    "* another way to look at it:\n",
    "    - performance problem = system is slow for a single user\n",
    "    - scalability problem = system is fast for a single user but slow under heavy load\n",
    "    "
   ]
  },
  {
   "cell_type": "markdown",
   "id": "b6e4e8cc",
   "metadata": {},
   "source": [
    "## Latency vs Throughput\n",
    "\n",
    "* __latency__ is the time to perform some action or produce some result\n",
    "* __throughput__ is the number of such actions or results per unit of time\n",
    "* generally want __maximal throughput__ with __acceptable latency__"
   ]
  },
  {
   "cell_type": "markdown",
   "id": "b70c20ed",
   "metadata": {},
   "source": [
    "## Availability vs Consistency\n",
    "\n",
    "### CAP Theorem\n",
    "\n",
    "* in a distributed system, you can only support two of the following guarantees:\n",
    "    - __consistency__ = every read receives the most recent write or an error\n",
    "        * every store, no matter the branch/location, will have the same items for sale\n",
    "    - __availability__ = every request receives a response, without guarantee that it contains the most recent version of the information\n",
    "        * the store is always open\n",
    "    - __partition tolerance__ = the system continues to operate despite arbitrary partitioning due to network failures\n",
    "        * meaning, there is an interrruption of communication between nodes in the system\n",
    "* networks aren't reliable, so you __must support partition tolerance__\n",
    "    - the tradeoff, then, is between availability or consistency\n",
    "\n",
    "* Consistent and Partition Tolerant (CP)\n",
    "    - waiting for a response from the partitioned node might result in a timeout error\n",
    "    - good if business needs atomic reads/writes \n",
    "        * atomic read/writes = only one read/write can be performed at a time\n",
    "* Availability and Partitiion Tolerant (AP)\n",
    "    - responses return the most readily available version of the data available on any node, which might not be the latest\n",
    "    - writes might take some time to propagate when the partition is resolved\n",
    "    - good choice if the business needs to allow for eventual consistency or when the system needs to continue working despite external errors"
   ]
  },
  {
   "cell_type": "markdown",
   "id": "85cdb88d",
   "metadata": {},
   "source": [
    "## Consistency Patterns\n",
    "\n",
    "* how do we synchronize multiple copies/versions of the same data so that clients have a consistent view of the data?\n",
    "\n",
    "### Weak Consistency\n",
    "\n",
    "* after a write, reads may or may not see it\n",
    "* works well in real time use cases like video chat and multiplayer games\n",
    "    - e.g. if you lose reception in the middle of a phone call for a few seconds and regain connection, you don't hear what was said during the connectoin loss\n",
    "\n",
    "### Eventual Consistency:\n",
    "\n",
    "* after a write, reads will eventually see it (typically within milliseconds)\n",
    "* data is replicated asynchronously\n",
    "* seen in DNS and email\n",
    "* works well in highly available systems\n",
    "\n",
    "### Strong Consistency:\n",
    "\n",
    "* after a write, reads will see it. \n",
    "* data is replicated asynchronously\n",
    "* seen in file systems and RDBMSes\n",
    "* works well in systems that need transactions"
   ]
  },
  {
   "cell_type": "markdown",
   "id": "0daf9f1a",
   "metadata": {},
   "source": [
    "## Availability Patterns\n",
    "\n",
    "* there are 2 complementary patterns to support high availability: __fail-over__ and __replication__\n",
    "\n",
    "### Fail-over\n",
    "#### Active-passive\n",
    "\n",
    "* aka master-slave failover\n",
    "* heartbeats sent between active and passive server on standby\n",
    "    - if heartbeat is interrupted, the passive server takes over the active's IP address and resumes service\n",
    "* length of downtime is determined by whether the passive server is already running in 'hot' standby or whether it needs to start up from 'cold' standby\n",
    "* only the active server handles traffic\n",
    "\n",
    "#### Active-active\n",
    "\n",
    "* aka master-master failover\n",
    "* both servers manage traffic and spread the load between them\n",
    "* if servers are public-facing, the DNS would need to know about the public IPs of both servers\n",
    "    - if they're internal-facing, app logic would need to know about both servers\n",
    "\n",
    "#### Disadvantages: failover\n",
    "\n",
    "* adds more hardware and additional complexity\n",
    "* potential loss of data if active system fails before any newly written data can be replicated to the passive\n",
    "\n",
    "### Replication\n",
    "\n",
    "#### Master-slave\n",
    "\n",
    "#### Master-master"
   ]
  },
  {
   "cell_type": "markdown",
   "id": "1cc21f61",
   "metadata": {},
   "source": [
    "## Availability in Numbers\n",
    "\n",
    "* quantified by uptime (or downtime) as a percentage of time the service is available\n",
    "* availability is measured in number of 9s\n",
    "    - 99.99% availability = four 9s\n",
    "* 99.9% availability - three 9s (downtime)\n",
    "    - year = 8h 45min 57s\n",
    "    - month = 43m 49.7s\n",
    "    - week = 10m 4.8s\n",
    "    - day = 1m 26.4s\n",
    "* 99.99% availability - four 9s (downtime)\n",
    "    - year = 52min 35.7s\n",
    "    - month = 4m 23s\n",
    "    - week = 1m 5s\n",
    "    - day = 8.6s\n",
    "\n",
    "#### Availability in parallel vs sequence\n",
    "\n",
    "* if a service consists of multiple components prone to failure, the service's overall availability depends on whether the components are in sequence or in parallel\n",
    "\n",
    "##### In Sequence\n",
    "* overall availability decreases when 2 components with availability < 100% are in sequence\n",
    "* Availability (total) = Availability (Foo) * Availability (Bar)\n",
    "    - if both Foo and Bar each had 99.9% availability, their total availability in sequence would be 99.8%\n",
    "\n",
    "##### In Parallel\n",
    "* overall availability decreases when 2 components with availability < 100% are in parallel\n",
    "* Availability (total) = 1 - (1 - Availability (Foo)) * (1 - (Availability (Bar))\n",
    "    - if both Foo and bar each had 99.9% availability, their total availability in parallel would be 99.9999%"
   ]
  },
  {
   "cell_type": "markdown",
   "id": "0d4fc905",
   "metadata": {},
   "source": [
    "## Domain Name System\n",
    "\n",
    "* a domain name system (DNS) translates a domain name, like www.example.com, to an IP address\n",
    "* DNS is hierarchical\n",
    "    - router/ISP provides info on which DNS server(s) to contact when doing a lookup\n",
    "* lower level DNS servers cache domain name - IP address mappings\n",
    "* DNS results can also be cached by browser/OS for a time until the TTL (time to live) expires\n",
    "\n",
    "***\n",
    "* NS record (name server) - specifies the DNS servers for your domain/subdomain\n",
    "* MX record (mail exchange) - specifies the mail servers for accepting messages\n",
    "* A record (address) - points a name to an IP address\n",
    "* CNAME (canonical) - points a name to another name or CNAME or to an A record\n",
    "    - e.g. example.com to www.example.com\n",
    "***\n",
    "* services such as CloudFlare and Route 53 provide managed DNS services\n",
    "* DNS services can route traffic through various methods:\n",
    "    - Weighted round robin:\n",
    "        * prevent traffic from goingto servers under maintenance\n",
    "        * balance between varying cluster sizes\n",
    "        * A/B testing\n",
    "    - Latency-based\n",
    "    - Geolocation-based\n",
    "\n",
    "### Disadvantages: DNS\n",
    "\n",
    "* accessing a DNS server introduces a slight delay, although mitigated by caching\n",
    "* DNS server management could be complex and is generally managed by governments, ISPs and large companies\n",
    "* DNS services have recently come under DDoS, preventing users from accessing websites such as Twitter without knowing Twitter's IP address(es)"
   ]
  },
  {
   "cell_type": "markdown",
   "id": "af0b4efa",
   "metadata": {},
   "source": [
    "## Content Delivery Network\n",
    "\n",
    "* a content delivery network (CDN) is a globally distributed network of proxy servers that serve content from locations closer to the user\n",
    "* generally static files like HTML/CSS/JS, photos, and videos are served from the CDN but some can also serve dynamic content\n",
    "* the site's DNS resolution will tell clients which server to contact\n",
    "* serving content from CDNS can significantly improve performance in 2 ways:\n",
    "    - users receive content from data centers closer to them\n",
    "    - your servers do not have to serve requests that the CDN fulfills\n",
    "\n",
    "### Push CDNs\n",
    "\n",
    "* Push CDNs receive new content whenever changes occur onthe server\n",
    "* you take full responsibility for:\n",
    "    - providing content\n",
    "    - uploading directly to the CDN\n",
    "    - rewrite URLs to point to the CDN\n",
    "* you can configure when the content expires and when it is updated\n",
    "* content is uploaded only  when it is new/changed\n",
    "    - this minimizes traffic but maximizes storage\n",
    "* sites with a small amount of traffic or sites with content that isn't regularly updated work well with push CDNs\n",
    "* content is only pushed to the CDNs once instead of being re-pulled at regular intervals\n",
    "\n",
    "### Pull CDNs\n",
    "\n",
    "* Pull CDNs grab new content from your server when the first user requests the content\n",
    "* can leave content on your server and rewrite URLs to point to the CDN\n",
    "* results in slower requests until the content is cached on the CDN\n",
    "* a time-to-live (TTL) determines how long content is cached\n",
    "* Pull CDNs minimize storage space on the CDN but can create redundant traffic if files expire and are pulled before they have actually changed\n",
    "* sites with heavy traffic work well with pull CDNs, since traffic is spread out more evenly with only recently-requested content remaining on the CDN\n",
    "\n",
    "### Disadvantages: CDN\n",
    "\n",
    "* costs can be significiant depending on traffic but should be weighed with additional costs you would incur if not using a CDN\n",
    "* content might be stale if it is updated before the TTL expires it\n",
    "* CDNs require changing URLs for static content to point to the CDN"
   ]
  },
  {
   "cell_type": "markdown",
   "id": "29bf1a1b",
   "metadata": {},
   "source": [
    "## Load Balancer"
   ]
  },
  {
   "cell_type": "code",
   "execution_count": null,
   "id": "3590dc88",
   "metadata": {},
   "outputs": [],
   "source": []
  },
  {
   "cell_type": "code",
   "execution_count": null,
   "id": "cbd445b9",
   "metadata": {},
   "outputs": [],
   "source": []
  },
  {
   "cell_type": "code",
   "execution_count": null,
   "id": "40c69317",
   "metadata": {},
   "outputs": [],
   "source": []
  },
  {
   "cell_type": "code",
   "execution_count": null,
   "id": "de059ecb",
   "metadata": {},
   "outputs": [],
   "source": []
  },
  {
   "cell_type": "code",
   "execution_count": null,
   "id": "ffff5a1f",
   "metadata": {},
   "outputs": [],
   "source": []
  },
  {
   "cell_type": "code",
   "execution_count": null,
   "id": "3b6b21bf",
   "metadata": {},
   "outputs": [],
   "source": []
  },
  {
   "cell_type": "code",
   "execution_count": null,
   "id": "3daacf37",
   "metadata": {},
   "outputs": [],
   "source": []
  },
  {
   "cell_type": "code",
   "execution_count": null,
   "id": "d1622605",
   "metadata": {},
   "outputs": [],
   "source": []
  },
  {
   "cell_type": "code",
   "execution_count": null,
   "id": "2a861789",
   "metadata": {},
   "outputs": [],
   "source": []
  },
  {
   "cell_type": "code",
   "execution_count": null,
   "id": "a32a390a",
   "metadata": {},
   "outputs": [],
   "source": []
  },
  {
   "cell_type": "code",
   "execution_count": null,
   "id": "f7a5e2f3",
   "metadata": {},
   "outputs": [],
   "source": []
  },
  {
   "cell_type": "code",
   "execution_count": null,
   "id": "7dd08803",
   "metadata": {},
   "outputs": [],
   "source": []
  }
 ],
 "metadata": {
  "kernelspec": {
   "display_name": "Python 3 (ipykernel)",
   "language": "python",
   "name": "python3"
  },
  "language_info": {
   "codemirror_mode": {
    "name": "ipython",
    "version": 3
   },
   "file_extension": ".py",
   "mimetype": "text/x-python",
   "name": "python",
   "nbconvert_exporter": "python",
   "pygments_lexer": "ipython3",
   "version": "3.9.7"
  }
 },
 "nbformat": 4,
 "nbformat_minor": 5
}
